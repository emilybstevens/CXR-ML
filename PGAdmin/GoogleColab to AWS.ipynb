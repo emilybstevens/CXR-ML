{
  "nbformat": 4,
  "nbformat_minor": 0,
  "metadata": {
    "colab": {
      "name": "Untitled12.ipynb",
      "provenance": [],
      "collapsed_sections": []
    },
    "kernelspec": {
      "name": "python3",
      "display_name": "Python 3"
    },
    "language_info": {
      "name": "python"
    }
  },
  "cells": [
    {
      "cell_type": "code",
      "execution_count": 1,
      "metadata": {
        "colab": {
          "base_uri": "https://localhost:8080/"
        },
        "id": "qcK95PyLx_0T",
        "outputId": "29ba2ba2-7ffb-450d-8444-6797a35c20e0"
      },
      "outputs": [
        {
          "output_type": "stream",
          "name": "stdout",
          "text": [
            "\r0% [Working]\r            \rGet:1 https://developer.download.nvidia.com/compute/cuda/repos/ubuntu1804/x86_64  InRelease [1,581 B]\n",
            "Get:2 https://cloud.r-project.org/bin/linux/ubuntu bionic-cran40/ InRelease [3,626 B]\n",
            "Get:3 http://security.ubuntu.com/ubuntu bionic-security InRelease [88.7 kB]\n",
            "Hit:4 http://archive.ubuntu.com/ubuntu bionic InRelease\n",
            "Get:5 http://ppa.launchpad.net/c2d4u.team/c2d4u4.0+/ubuntu bionic InRelease [15.9 kB]\n",
            "Ign:6 https://developer.download.nvidia.com/compute/machine-learning/repos/ubuntu1804/x86_64  InRelease\n",
            "Hit:7 https://developer.download.nvidia.com/compute/machine-learning/repos/ubuntu1804/x86_64  Release\n",
            "Get:8 http://archive.ubuntu.com/ubuntu bionic-updates InRelease [88.7 kB]\n",
            "Get:9 https://developer.download.nvidia.com/compute/cuda/repos/ubuntu1804/x86_64  Packages [817 kB]\n",
            "Hit:10 http://ppa.launchpad.net/cran/libgit2/ubuntu bionic InRelease\n",
            "Get:11 http://archive.ubuntu.com/ubuntu bionic-backports InRelease [74.6 kB]\n",
            "Hit:12 http://ppa.launchpad.net/deadsnakes/ppa/ubuntu bionic InRelease\n",
            "Hit:13 http://ppa.launchpad.net/graphics-drivers/ppa/ubuntu bionic InRelease\n",
            "Get:14 https://cloud.r-project.org/bin/linux/ubuntu bionic-cran40/ Packages [85.6 kB]\n",
            "Get:16 http://ppa.launchpad.net/c2d4u.team/c2d4u4.0+/ubuntu bionic/main Sources [2,075 kB]\n",
            "Get:17 http://security.ubuntu.com/ubuntu bionic-security/universe amd64 Packages [1,527 kB]\n",
            "Get:18 http://ppa.launchpad.net/c2d4u.team/c2d4u4.0+/ubuntu bionic/main amd64 Packages [1,063 kB]\n",
            "Get:19 http://security.ubuntu.com/ubuntu bionic-security/main amd64 Packages [2,901 kB]\n",
            "Get:20 http://security.ubuntu.com/ubuntu bionic-security/restricted amd64 Packages [1,063 kB]\n",
            "Get:21 http://archive.ubuntu.com/ubuntu bionic-updates/restricted amd64 Packages [1,105 kB]\n",
            "Get:22 http://archive.ubuntu.com/ubuntu bionic-updates/universe amd64 Packages [2,304 kB]\n",
            "Get:23 http://archive.ubuntu.com/ubuntu bionic-updates/main amd64 Packages [3,333 kB]\n",
            "Fetched 16.5 MB in 6s (2,587 kB/s)\n",
            "Reading package lists... Done\n"
          ]
        }
      ],
      "source": [
        "import os\n",
        "# Find the latest version of spark 3.0 from http://www.apache.org/dist/spark/ and enter as the spark version\n",
        "# For example:\n",
        "# spark_version = 'spark-3.0.3'\n",
        "spark_version = 'spark-3.2.2'\n",
        "os.environ['SPARK_VERSION']=spark_version\n",
        "\n",
        "# Install Spark and Java\n",
        "!apt-get update\n",
        "!apt-get install openjdk-11-jdk-headless -qq > /dev/null\n",
        "!wget -q http://www.apache.org/dist/spark/$SPARK_VERSION/$SPARK_VERSION-bin-hadoop2.7.tgz\n",
        "!tar xf $SPARK_VERSION-bin-hadoop2.7.tgz\n",
        "!pip install -q findspark\n",
        "\n",
        "# Set Environment Variables\n",
        "import os\n",
        "os.environ[\"JAVA_HOME\"] = \"/usr/lib/jvm/java-11-openjdk-amd64\"\n",
        "os.environ[\"SPARK_HOME\"] = f\"/content/{spark_version}-bin-hadoop2.7\"\n",
        "\n",
        "# Start a SparkSession\n",
        "import findspark\n",
        "findspark.init()"
      ]
    },
    {
      "cell_type": "code",
      "source": [
        "# Download the Postgres driver that will allow Spark to interact with Postgres.\n",
        "!wget https://jdbc.postgresql.org/download/postgresql-42.2.16.jar"
      ],
      "metadata": {
        "colab": {
          "base_uri": "https://localhost:8080/"
        },
        "id": "qX4uvRB9yMOc",
        "outputId": "7032777a-6522-4e54-accb-5746e44d0804"
      },
      "execution_count": 2,
      "outputs": [
        {
          "output_type": "stream",
          "name": "stdout",
          "text": [
            "--2022-07-22 02:42:23--  https://jdbc.postgresql.org/download/postgresql-42.2.16.jar\n",
            "Resolving jdbc.postgresql.org (jdbc.postgresql.org)... 72.32.157.228, 2001:4800:3e1:1::228\n",
            "Connecting to jdbc.postgresql.org (jdbc.postgresql.org)|72.32.157.228|:443... connected.\n",
            "HTTP request sent, awaiting response... 200 OK\n",
            "Length: 1002883 (979K) [application/java-archive]\n",
            "Saving to: ‘postgresql-42.2.16.jar’\n",
            "\n",
            "postgresql-42.2.16. 100%[===================>] 979.38K  5.42MB/s    in 0.2s    \n",
            "\n",
            "2022-07-22 02:42:24 (5.42 MB/s) - ‘postgresql-42.2.16.jar’ saved [1002883/1002883]\n",
            "\n"
          ]
        }
      ]
    },
    {
      "cell_type": "code",
      "source": [
        "# Setup pyspark session & imports\n",
        "from pyspark import SparkFiles\n",
        "from pyspark.sql import SparkSession\n",
        "\n",
        "spark = SparkSession.builder.appName(\"CloudETL\").config(\"spark.driver.extraClassPath\",\"/content/postgresql-42.2.16.jar\").getOrCreate()"
      ],
      "metadata": {
        "id": "DgjiDtWxyP3c"
      },
      "execution_count": 3,
      "outputs": []
    },
    {
      "cell_type": "code",
      "source": [
        "# Import x-ray data csv file from GitHub.\n",
        "\n",
        "url_date = \"https://raw.githubusercontent.com/emilybstevens/CXR-ML/main/Resources/csv/Data_Entry_2017.csv\"\n",
        "\n",
        "spark.sparkContext.addFile(url_date)\n",
        "data_df = spark.read.csv(SparkFiles.get(\"Data_Entry_2017.csv\"), sep=\",\", header=True, inferSchema=True)\n",
        "\n",
        "data_df.show()"
      ],
      "metadata": {
        "colab": {
          "base_uri": "https://localhost:8080/"
        },
        "id": "0RtK1Kf-yW2A",
        "outputId": "e52589e8-e9fc-4c61-a21b-85915de0a626"
      },
      "execution_count": 4,
      "outputs": [
        {
          "output_type": "stream",
          "name": "stdout",
          "text": [
            "+----------------+--------------------+-----------+----------+-----------+--------------+-------------+-------------------+-------+---------------------------+-----+----+\n",
            "|     Image Index|      Finding Labels|Follow-up #|Patient ID|Patient Age|Patient Gender|View Position|OriginalImage[Width|Height]|OriginalImagePixelSpacing[x|   y]|_c11|\n",
            "+----------------+--------------------+-----------+----------+-----------+--------------+-------------+-------------------+-------+---------------------------+-----+----+\n",
            "|00000001_000.png|        Cardiomegaly|          0|         1|         58|             M|           PA|               2682|   2749|                      0.143|0.143|null|\n",
            "|00000001_001.png|Cardiomegaly|Emph...|          1|         1|         58|             M|           PA|               2894|   2729|                      0.143|0.143|null|\n",
            "|00000001_002.png|Cardiomegaly|Effu...|          2|         1|         58|             M|           PA|               2500|   2048|                      0.168|0.168|null|\n",
            "|00000002_000.png|          No Finding|          0|         2|         81|             M|           PA|               2500|   2048|                      0.171|0.171|null|\n",
            "|00000003_000.png|              Hernia|          0|         3|         81|             F|           PA|               2582|   2991|                      0.143|0.143|null|\n",
            "|00000003_001.png|              Hernia|          1|         3|         74|             F|           PA|               2500|   2048|                      0.168|0.168|null|\n",
            "|00000003_002.png|              Hernia|          2|         3|         75|             F|           PA|               2048|   2500|                      0.168|0.168|null|\n",
            "|00000003_003.png| Hernia|Infiltration|          3|         3|         76|             F|           PA|               2698|   2991|                      0.143|0.143|null|\n",
            "|00000003_004.png|              Hernia|          4|         3|         77|             F|           PA|               2500|   2048|                      0.168|0.168|null|\n",
            "|00000003_005.png|              Hernia|          5|         3|         78|             F|           PA|               2686|   2991|                      0.143|0.143|null|\n",
            "|00000003_006.png|              Hernia|          6|         3|         79|             F|           PA|               2992|   2991|                      0.143|0.143|null|\n",
            "|00000003_007.png|              Hernia|          7|         3|         80|             F|           PA|               2582|   2905|                      0.143|0.143|null|\n",
            "|00000004_000.png|         Mass|Nodule|          0|         4|         82|             M|           AP|               2500|   2048|                      0.168|0.168|null|\n",
            "|00000005_000.png|          No Finding|          0|         5|         69|             F|           PA|               2048|   2500|                      0.168|0.168|null|\n",
            "|00000005_001.png|          No Finding|          1|         5|         69|             F|           AP|               2500|   2048|                      0.168|0.168|null|\n",
            "|00000005_002.png|          No Finding|          2|         5|         69|             F|           AP|               2500|   2048|                      0.168|0.168|null|\n",
            "|00000005_003.png|          No Finding|          3|         5|         69|             F|           PA|               2992|   2991|                      0.143|0.143|null|\n",
            "|00000005_004.png|          No Finding|          4|         5|         70|             F|           PA|               2986|   2991|                      0.143|0.143|null|\n",
            "|00000005_005.png|          No Finding|          5|         5|         70|             F|           PA|               2514|   2991|                      0.143|0.143|null|\n",
            "|00000005_006.png|        Infiltration|          6|         5|         70|             F|           PA|               2992|   2991|                      0.143|0.143|null|\n",
            "+----------------+--------------------+-----------+----------+-----------+--------------+-------------+-------------------+-------+---------------------------+-----+----+\n",
            "only showing top 20 rows\n",
            "\n"
          ]
        }
      ]
    },
    {
      "cell_type": "code",
      "source": [
        "# Drop _c11 column \n",
        "\n",
        "data_entry_df = data_df[[\"Image Index\", \"Finding Labels\", \"Follow-up #\", \"Patient ID\", \"Patient Age\", \"Patient Gender\", \"View Position\", \"OriginalImage[Width\", \"Height]\", \"OriginalImagePixelSpacing[x\", \"y]\"]]\n",
        "data_entry_df.show()"
      ],
      "metadata": {
        "colab": {
          "base_uri": "https://localhost:8080/"
        },
        "id": "cS35SLoiyc8S",
        "outputId": "69089789-e126-45a1-ea6e-4895fb1a35a2"
      },
      "execution_count": 5,
      "outputs": [
        {
          "output_type": "stream",
          "name": "stdout",
          "text": [
            "+----------------+--------------------+-----------+----------+-----------+--------------+-------------+-------------------+-------+---------------------------+-----+\n",
            "|     Image Index|      Finding Labels|Follow-up #|Patient ID|Patient Age|Patient Gender|View Position|OriginalImage[Width|Height]|OriginalImagePixelSpacing[x|   y]|\n",
            "+----------------+--------------------+-----------+----------+-----------+--------------+-------------+-------------------+-------+---------------------------+-----+\n",
            "|00000001_000.png|        Cardiomegaly|          0|         1|         58|             M|           PA|               2682|   2749|                      0.143|0.143|\n",
            "|00000001_001.png|Cardiomegaly|Emph...|          1|         1|         58|             M|           PA|               2894|   2729|                      0.143|0.143|\n",
            "|00000001_002.png|Cardiomegaly|Effu...|          2|         1|         58|             M|           PA|               2500|   2048|                      0.168|0.168|\n",
            "|00000002_000.png|          No Finding|          0|         2|         81|             M|           PA|               2500|   2048|                      0.171|0.171|\n",
            "|00000003_000.png|              Hernia|          0|         3|         81|             F|           PA|               2582|   2991|                      0.143|0.143|\n",
            "|00000003_001.png|              Hernia|          1|         3|         74|             F|           PA|               2500|   2048|                      0.168|0.168|\n",
            "|00000003_002.png|              Hernia|          2|         3|         75|             F|           PA|               2048|   2500|                      0.168|0.168|\n",
            "|00000003_003.png| Hernia|Infiltration|          3|         3|         76|             F|           PA|               2698|   2991|                      0.143|0.143|\n",
            "|00000003_004.png|              Hernia|          4|         3|         77|             F|           PA|               2500|   2048|                      0.168|0.168|\n",
            "|00000003_005.png|              Hernia|          5|         3|         78|             F|           PA|               2686|   2991|                      0.143|0.143|\n",
            "|00000003_006.png|              Hernia|          6|         3|         79|             F|           PA|               2992|   2991|                      0.143|0.143|\n",
            "|00000003_007.png|              Hernia|          7|         3|         80|             F|           PA|               2582|   2905|                      0.143|0.143|\n",
            "|00000004_000.png|         Mass|Nodule|          0|         4|         82|             M|           AP|               2500|   2048|                      0.168|0.168|\n",
            "|00000005_000.png|          No Finding|          0|         5|         69|             F|           PA|               2048|   2500|                      0.168|0.168|\n",
            "|00000005_001.png|          No Finding|          1|         5|         69|             F|           AP|               2500|   2048|                      0.168|0.168|\n",
            "|00000005_002.png|          No Finding|          2|         5|         69|             F|           AP|               2500|   2048|                      0.168|0.168|\n",
            "|00000005_003.png|          No Finding|          3|         5|         69|             F|           PA|               2992|   2991|                      0.143|0.143|\n",
            "|00000005_004.png|          No Finding|          4|         5|         70|             F|           PA|               2986|   2991|                      0.143|0.143|\n",
            "|00000005_005.png|          No Finding|          5|         5|         70|             F|           PA|               2514|   2991|                      0.143|0.143|\n",
            "|00000005_006.png|        Infiltration|          6|         5|         70|             F|           PA|               2992|   2991|                      0.143|0.143|\n",
            "+----------------+--------------------+-----------+----------+-----------+--------------+-------------+-------------------+-------+---------------------------+-----+\n",
            "only showing top 20 rows\n",
            "\n"
          ]
        }
      ]
    },
    {
      "cell_type": "code",
      "source": [
        "# Import mortality data csv file from GitHub.\n",
        "\n",
        "url_mortality = \"https://raw.githubusercontent.com/emilybstevens/CXR-ML/main/Resources/Mortality_Rate_Classification.csv\"\n",
        "\n",
        "spark.sparkContext.addFile(url_mortality)\n",
        "mortality_df = spark.read.csv(SparkFiles.get(\"Mortality_Rate_Classification.csv\"), sep=\",\", header=True, inferSchema=True)\n",
        "\n",
        "mortality_df.show()"
      ],
      "metadata": {
        "colab": {
          "base_uri": "https://localhost:8080/"
        },
        "id": "2E8y6B9Cyg5r",
        "outputId": "027287f1-4804-43d7-caef-20a763364536"
      },
      "execution_count": 6,
      "outputs": [
        {
          "output_type": "stream",
          "name": "stdout",
          "text": [
            "+------------------+----------+-------------------------+-----------+\n",
            "|         Condition|     Class|30-Day Mortality Rate (%)|Triage Rank|\n",
            "+------------------+----------+-------------------------+-----------+\n",
            "|       Atelectasis|  Emergent|                     14.0|          a|\n",
            "|      Cardiomegaly|   Chronic|                     null|          j|\n",
            "|     Consolidation|  Emergent|                     35.0|          b|\n",
            "|             Edema|  Emergent|                     46.0|          c|\n",
            "|          Effusion|  Emergent|                     15.0|          d|\n",
            "|         Emphysema|   Chronic|                     null|          k|\n",
            "|          Fibrosis|   Chronic|                     null|          l|\n",
            "|            Hernia|     Acute|                     null|          g|\n",
            "|      Infiltration|  Emergent|                     null|          f|\n",
            "|              Mass|     Acute|                      NaN|          h|\n",
            "|        No Finding|No Finding|                      NaN|          o|\n",
            "|            Nodule|   Chronic|                      3.7|          m|\n",
            "|Pleural_Thickening|   Chronic|                     null|          n|\n",
            "|         Pneumonia|     Acute|                      5.0|          i|\n",
            "|      Pneumothorax|  Emergent|                     null|          e|\n",
            "+------------------+----------+-------------------------+-----------+\n",
            "\n"
          ]
        }
      ]
    },
    {
      "cell_type": "code",
      "source": [
        "# Configure settings for RDS\n",
        "mode = \"append\"\n",
        "jdbc_url=\"jdbc:postgresql://finalprojectaws.cqzwtqfkpisz.us-east-1.rds.amazonaws.com:5432/my_aws_db\"\n",
        "config = {\"user\":\"group4\", \n",
        "          \"password\": \"group4%%\", \n",
        "          \"driver\":\"org.postgresql.Driver\"}"
      ],
      "metadata": {
        "id": "IaL-HZYayl_e"
      },
      "execution_count": 7,
      "outputs": []
    },
    {
      "cell_type": "code",
      "source": [
        "# Write data_entry_2007_df to table in RDS\n",
        "data_entry_df.write.jdbc(url=jdbc_url, table='Data_Entry_2007', mode=mode, properties=config)"
      ],
      "metadata": {
        "id": "k7cbhypoypIx"
      },
      "execution_count": 10,
      "outputs": []
    },
    {
      "cell_type": "code",
      "source": [
        "# Write mortality_rate_class_df to table in RDS\n",
        "mortality_df.write.jdbc(url=jdbc_url, table='Mortality_Rate_Classification', mode=mode, properties=config)"
      ],
      "metadata": {
        "id": "Xg9rbZ9DypPN"
      },
      "execution_count": 9,
      "outputs": []
    }
  ]
}