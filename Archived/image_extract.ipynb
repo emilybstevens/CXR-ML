{
 "cells": [
  {
   "cell_type": "markdown",
   "metadata": {},
   "source": [
    "# Extract and Sort CXR Testing and Training Images from NIH CXR Dataset. "
   ]
  },
  {
   "cell_type": "markdown",
   "metadata": {},
   "source": [
    "- This code extracts the CXR image png files from NIH CXR dataset available on [Kaggle](https://www.kaggle.com/datasets/nih-chest-xrays/data). \n",
    "\n",
    "- The code assumes that the parent folder for all downloaded files from dataset is named `NIH-CXR/`. \n",
    "\n",
    "- The extraction is focused on the images stored in the files named as `r\"images_\\d+\"` and there is a sub-folder of `images/` nested within each image folder.\n",
    "\n",
    "- The code assumes that this code file is located on the same level as the `r\"images_\\d+\"` folders. Please change directories accordingly if the layout is different. \n",
    "\n",
    "- The sorting is based on the list of images provided in the `test_list.txt` and the `train_val_list.txt` files. \n",
    "\n",
    "- Images are sorted to target folders named `test_images` and `train_images` respectively. \n",
    "\n",
    "- Code was employed in this file on the training images only and directories were previously created. \n",
    "\n",
    "- The testing images set was sorted via the raw, unrefactored file. Validation can be seen in the version history of this file on github(Note: Please excuse the mess). \n",
    "\n",
    "- The `image_extraction()` function takes in 3 arguements and gives status updates once per each image folder. The extraction of training images from `images_001/` folder took around 2.45 minutes before a status message was displayed. "
   ]
  },
  {
   "cell_type": "markdown",
   "metadata": {},
   "source": [
    "### Import Dependencies "
   ]
  },
  {
   "cell_type": "code",
   "execution_count": 1,
   "metadata": {},
   "outputs": [],
   "source": [
    "# Import Dependencies \n",
    "import os \n",
    "import shutil as sh \n",
    "import re \n",
    "import collections as coll"
   ]
  },
  {
   "cell_type": "markdown",
   "metadata": {},
   "source": [
    "### Define Paths for Prerequisite Items: Source Folders, Info. and Target Folders"
   ]
  },
  {
   "cell_type": "code",
   "execution_count": 2,
   "metadata": {},
   "outputs": [],
   "source": [
    "# Define the path for the text files for train and test sets. \n",
    "\n",
    "test_file = os.path.join(\"test_list.txt\")\n",
    "train_file = os.path.join(\"train_val_list.txt\")"
   ]
  },
  {
   "cell_type": "code",
   "execution_count": null,
   "metadata": {},
   "outputs": [],
   "source": [
    "# Make destination folders for sorted images \n",
    "os.mkdir(\"test_images/\")\n",
    "os.mkdir(\"train_images/\")"
   ]
  },
  {
   "cell_type": "code",
   "execution_count": 4,
   "metadata": {},
   "outputs": [],
   "source": [
    "# Define paths to Destination folders \n",
    "test_folder = os.path.join(\"test_images/\")\n",
    "train_folder = os.path.join(\"train_images/\")"
   ]
  },
  {
   "cell_type": "code",
   "execution_count": 5,
   "metadata": {},
   "outputs": [
    {
     "name": "stdout",
     "output_type": "stream",
     "text": [
      "['images_001', 'images_002', 'images_003', 'images_004', 'images_005', 'images_006', 'images_007', 'images_008', 'images_009', 'images_010', 'images_011', 'images_012']\n"
     ]
    }
   ],
   "source": [
    "# Define the path for the central folder where image files are stored\n",
    "parent = os.path.join(\"../NIH-CXR/\")\n",
    "\n",
    "# Get all folder names in current folder directory. \n",
    "all_folders = [f.name for f in os.scandir(parent) if f.is_dir()]\n",
    "\n",
    "# Extract all image folder names syntax: images_\\d+ \n",
    "image_folders = [x for x in all_folders if re.match(r\"images_\\d+\", x)]\n",
    "print(image_folders)"
   ]
  },
  {
   "cell_type": "markdown",
   "metadata": {},
   "source": [
    "### Define Functions for Extraction and QC"
   ]
  },
  {
   "cell_type": "code",
   "execution_count": 6,
   "metadata": {},
   "outputs": [],
   "source": [
    "# Create a function to open and extract the list of desired images from each text file. \n",
    "\n",
    "def get_desired_images(txt_file):\n",
    "    \n",
    "    # Open the file #cookie jar  \n",
    "    open_file = open(txt_file, \"r\")\n",
    "    \n",
    "    # List contents by reading and turning new lines into different list items. \n",
    "    listify = open_file.read().split(\"\\n\")\n",
    "\n",
    "    # Close the #cookie jar \n",
    "    open_file.close()\n",
    "    \n",
    "    return listify "
   ]
  },
  {
   "cell_type": "code",
   "execution_count": 7,
   "metadata": {},
   "outputs": [],
   "source": [
    "# Define function for the extraction and sorting process \n",
    "\n",
    "def image_extraction(desired_image_list, destination_folder, source_folders):\n",
    "\n",
    "    # Make a copy of the list of images to search\n",
    "    images_list  = desired_image_list.copy()\n",
    "    total_images = len(images_list)\n",
    "\n",
    "    # Create Counters\n",
    "    total_count = 0\n",
    "\n",
    "    # Iterate over the folders\n",
    "    for item in source_folders: \n",
    "\n",
    "        # Print Working Status \n",
    "        print(f\"***** Scanning folder: {item} *****\")\n",
    "\n",
    "        # Define Source image path folder to scan (Note: there is a secondary images/ folder)\n",
    "        source_image_path = f\"{item}/images/\"\n",
    "    \n",
    "        # Loop through the files in directory   \n",
    "        for f in os.listdir(source_image_path):\n",
    "            \n",
    "            # Filter the list of files in the current folder as per images list.   \n",
    "            files = [image for image in images_list if image == f]\n",
    "            \n",
    "            # Copy from the list of files to new folder and increase counter.  \n",
    "            for file in files: \n",
    "                sh.copy(source_image_path+file, destination_folder)\n",
    "                total_count += 1 \n",
    "            \n",
    "        # Running total copies \n",
    "        print(f\"Total Files copied thus far:{str(total_count)}/{str(total_images)}\")"
   ]
  },
  {
   "cell_type": "code",
   "execution_count": 8,
   "metadata": {},
   "outputs": [],
   "source": [
    "# Function to confirm the copied files match\n",
    "\n",
    "def qc_copy_folder(desired_image_list, destination_folder):\n",
    "\n",
    "    # Get a list of all the files in the current folder of copied images \n",
    "    copied_files = os.listdir(destination_folder)\n",
    "    \n",
    "    # Check to see if they match\n",
    "    if coll.Counter(copied_files) == coll.Counter(desired_image_list):\n",
    "        return print(\"You got a star! All files match.\")\n",
    "    else:\n",
    "        return print(\"This ain't it chief!\")"
   ]
  },
  {
   "cell_type": "markdown",
   "metadata": {},
   "source": [
    "### Excecute Functions "
   ]
  },
  {
   "cell_type": "code",
   "execution_count": 9,
   "metadata": {},
   "outputs": [
    {
     "name": "stdout",
     "output_type": "stream",
     "text": [
      "25596\n"
     ]
    }
   ],
   "source": [
    "# Get the test set Confirm size is [test_list = 25596]\n",
    "test_list = get_desired_images(test_file)\n",
    "print(len(test_list))"
   ]
  },
  {
   "cell_type": "code",
   "execution_count": 10,
   "metadata": {},
   "outputs": [
    {
     "name": "stdout",
     "output_type": "stream",
     "text": [
      "86524\n"
     ]
    }
   ],
   "source": [
    "# Get the train set Confirm size is [train_val_list = 86524]\n",
    "train_list = get_desired_images(train_file)\n",
    "print(len(train_list))"
   ]
  },
  {
   "cell_type": "code",
   "execution_count": null,
   "metadata": {},
   "outputs": [],
   "source": [
    "# Perform the task on test_list \n",
    "image_extraction(test_list, test_folder, image_folders)"
   ]
  },
  {
   "cell_type": "code",
   "execution_count": null,
   "metadata": {},
   "outputs": [],
   "source": [
    "# Perform QC on the copied files \n",
    "qc_copy_folder(test_list, test_folder)"
   ]
  },
  {
   "cell_type": "code",
   "execution_count": 11,
   "metadata": {},
   "outputs": [
    {
     "name": "stdout",
     "output_type": "stream",
     "text": [
      "***** Scanning folder: images_001 *****\n",
      "Total Files copied thus far:4032/86524\n",
      "***** Scanning folder: images_002 *****\n",
      "Total Files copied thus far:12540/86524\n",
      "***** Scanning folder: images_003 *****\n",
      "Total Files copied thus far:20931/86524\n",
      "***** Scanning folder: images_004 *****\n",
      "Total Files copied thus far:29394/86524\n",
      "***** Scanning folder: images_005 *****\n",
      "Total Files copied thus far:37275/86524\n",
      "***** Scanning folder: images_006 *****\n",
      "Total Files copied thus far:44597/86524\n",
      "***** Scanning folder: images_007 *****\n",
      "Total Files copied thus far:51820/86524\n",
      "***** Scanning folder: images_008 *****\n",
      "Total Files copied thus far:59330/86524\n",
      "***** Scanning folder: images_009 *****\n",
      "Total Files copied thus far:67091/86524\n",
      "***** Scanning folder: images_010 *****\n",
      "Total Files copied thus far:74937/86524\n",
      "***** Scanning folder: images_011 *****\n",
      "Total Files copied thus far:82995/86524\n",
      "***** Scanning folder: images_012 *****\n",
      "Total Files copied thus far:86524/86524\n"
     ]
    }
   ],
   "source": [
    "# Perform the task on training_list \n",
    "image_extraction(train_list, train_folder, image_folders)"
   ]
  },
  {
   "cell_type": "code",
   "execution_count": 12,
   "metadata": {},
   "outputs": [
    {
     "name": "stdout",
     "output_type": "stream",
     "text": [
      "You got a star! All files match.\n"
     ]
    }
   ],
   "source": [
    "# Perform QC on the copied files \n",
    "qc_copy_folder(train_list, train_folder)"
   ]
  }
 ],
 "metadata": {
  "kernelspec": {
   "display_name": "Python 3.7.13 ('mlenv')",
   "language": "python",
   "name": "python3"
  },
  "language_info": {
   "codemirror_mode": {
    "name": "ipython",
    "version": 3
   },
   "file_extension": ".py",
   "mimetype": "text/x-python",
   "name": "python",
   "nbconvert_exporter": "python",
   "pygments_lexer": "ipython3",
   "version": "3.7.13"
  },
  "orig_nbformat": 4,
  "vscode": {
   "interpreter": {
    "hash": "5c1fa0b4963365e064c71d8bf73c6819fefc3ad2c3fc999bb7f7dad28f1ba257"
   }
  }
 },
 "nbformat": 4,
 "nbformat_minor": 2
}
