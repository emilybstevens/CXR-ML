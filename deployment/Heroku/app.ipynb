{
 "cells": [
  {
   "cell_type": "code",
   "execution_count": null,
   "metadata": {},
   "outputs": [],
   "source": [
    "! pip install streamlit\n",
    "! pip install pillow "
   ]
  },
  {
   "cell_type": "code",
   "execution_count": null,
   "metadata": {},
   "outputs": [],
   "source": [
    "import streamlit as st \n",
    "st.title(\"Image Classification- XRadar\")\n",
    "st.header(\"Lung Disease Classification Model\")\n",
    "st.text(\"Upload a Chest X-rqay Image for Classification.\")\n",
    "\n",
    "import Image"
   ]
  },
  {
   "cell_type": "markdown",
   "metadata": {},
   "source": [
    "Note: the source code is located here: [Plural Insight](https://www.pluralslight.com/guides/deploying-image-classification-on-the-web-with-streamlit-and-heroku)\n",
    "\n",
    "All files must be in .py format and not .ipynb\n",
    "\n",
    "Source code only takes in a single image in a jpeg format so be weary of that. \n",
    "\n",
    "The classification is curently limited to a binary. Change to fit multilabel. "
   ]
  },
  {
   "cell_type": "code",
   "execution_count": null,
   "metadata": {},
   "outputs": [],
   "source": [
    "# import the model to deploy \n",
    "from img_classification import teachable_machine_classification"
   ]
  },
  {
   "cell_type": "code",
   "execution_count": null,
   "metadata": {},
   "outputs": [],
   "source": [
    "uploaded_file = st.file_uploader(\"Choose a chest Xray\", type = \"png\")\n",
    "\n",
    "if uploaded_file is not None:\n",
    "    image = Image.open(uploaded_file)\n",
    "    st.image(image, caption = \"Uploaded Chest Xray\", use_column_width = True )\n",
    "    st.write(\"\")\n",
    "    st.write(\"Analyzing ...\")\n",
    "    label = teachable_machine_classification(image, \"beta_net.h5\")\n",
    "    if label == 0:\n",
    "        st.write(\"No Disease Detected\")\n",
    "    else: \n",
    "        st.write(\"Diseases Found\")\n"
   ]
  },
  {
   "cell_type": "markdown",
   "metadata": {},
   "source": [
    "Create a Heroku account, Download [Heroku CLI](https://devcenter.heroku.com/articles/getting-started-with-python#set-up)\n",
    "\n",
    "Create a [procfile](https://devcenter.heroku.com/articles/procfile)"
   ]
  },
  {
   "cell_type": "markdown",
   "metadata": {},
   "source": []
  }
 ],
 "metadata": {
  "kernelspec": {
   "display_name": "Python 3.10.5 64-bit",
   "language": "python",
   "name": "python3"
  },
  "language_info": {
   "name": "python",
   "version": "3.10.5"
  },
  "orig_nbformat": 4,
  "vscode": {
   "interpreter": {
    "hash": "04473e0720f89deedb9149e66390cabce560739d56e94f81333995a10ec5e895"
   }
  }
 },
 "nbformat": 4,
 "nbformat_minor": 2
}
