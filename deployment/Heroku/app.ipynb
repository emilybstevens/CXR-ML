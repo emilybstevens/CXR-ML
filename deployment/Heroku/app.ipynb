{
 "cells": [
  {
   "cell_type": "code",
   "execution_count": 1,
   "metadata": {},
   "outputs": [
    {
     "name": "stdout",
     "output_type": "stream",
     "text": [
      "Collecting streamlit\n",
      "  Downloading streamlit-1.11.1-py2.py3-none-any.whl (9.1 MB)\n",
      "Requirement already satisfied: typing-extensions>=3.10.0.0 in c:\\users\\fabalin\\anaconda3\\envs\\mlenv\\lib\\site-packages (from streamlit) (4.1.1)\n",
      "Requirement already satisfied: importlib-metadata>=1.4 in c:\\users\\fabalin\\anaconda3\\envs\\mlenv\\lib\\site-packages (from streamlit) (4.11.3)\n",
      "Requirement already satisfied: tornado>=5.0 in c:\\users\\fabalin\\anaconda3\\envs\\mlenv\\lib\\site-packages (from streamlit) (6.1)\n",
      "Collecting tzlocal>=1.1\n",
      "  Downloading tzlocal-4.2-py3-none-any.whl (19 kB)\n",
      "Requirement already satisfied: watchdog in c:\\users\\fabalin\\anaconda3\\envs\\mlenv\\lib\\site-packages (from streamlit) (2.1.6)\n",
      "Collecting rich>=10.11.0\n",
      "  Downloading rich-12.5.1-py3-none-any.whl (235 kB)\n",
      "Collecting blinker>=1.0.0\n",
      "  Downloading blinker-1.5-py2.py3-none-any.whl (12 kB)\n",
      "Requirement already satisfied: toml in c:\\users\\fabalin\\anaconda3\\envs\\mlenv\\lib\\site-packages (from streamlit) (0.10.2)\n",
      "Collecting validators>=0.2\n",
      "  Downloading validators-0.20.0.tar.gz (30 kB)\n",
      "Requirement already satisfied: cachetools>=4.0 in c:\\users\\fabalin\\anaconda3\\envs\\mlenv\\lib\\site-packages (from streamlit) (4.2.2)\n",
      "Collecting pydeck>=0.1.dev5\n",
      "  Downloading pydeck-0.7.1-py2.py3-none-any.whl (4.3 MB)\n",
      "Collecting gitpython!=3.1.19\n",
      "  Downloading GitPython-3.1.27-py3-none-any.whl (181 kB)\n",
      "Requirement already satisfied: python-dateutil in c:\\users\\fabalin\\anaconda3\\envs\\mlenv\\lib\\site-packages (from streamlit) (2.8.2)\n",
      "Collecting semver\n",
      "  Downloading semver-2.13.0-py2.py3-none-any.whl (12 kB)\n",
      "Requirement already satisfied: protobuf<4,>=3.12 in c:\\users\\fabalin\\anaconda3\\envs\\mlenv\\lib\\site-packages (from streamlit) (3.19.1)\n",
      "Collecting altair>=3.2.0\n",
      "  Downloading altair-4.2.0-py3-none-any.whl (812 kB)\n",
      "Requirement already satisfied: pillow>=6.2.0 in c:\\users\\fabalin\\anaconda3\\envs\\mlenv\\lib\\site-packages (from streamlit) (9.0.1)\n",
      "Requirement already satisfied: attrs>=16.0.0 in c:\\users\\fabalin\\anaconda3\\envs\\mlenv\\lib\\site-packages (from streamlit) (21.4.0)\n",
      "Requirement already satisfied: requests>=2.4 in c:\\users\\fabalin\\anaconda3\\envs\\mlenv\\lib\\site-packages (from streamlit) (2.27.1)\n",
      "Requirement already satisfied: numpy in c:\\users\\fabalin\\anaconda3\\envs\\mlenv\\lib\\site-packages (from streamlit) (1.21.5)\n",
      "Requirement already satisfied: pandas>=0.21.0 in c:\\users\\fabalin\\anaconda3\\envs\\mlenv\\lib\\site-packages (from streamlit) (1.3.5)\n",
      "Requirement already satisfied: packaging>=14.1 in c:\\users\\fabalin\\anaconda3\\envs\\mlenv\\lib\\site-packages (from streamlit) (21.3)\n",
      "Collecting pympler>=0.9\n",
      "  Downloading Pympler-1.0.1-py3-none-any.whl (164 kB)\n",
      "Collecting pyarrow>=4.0\n",
      "  Downloading pyarrow-8.0.0-cp37-cp37m-win_amd64.whl (17.8 MB)\n",
      "Requirement already satisfied: click>=7.0 in c:\\users\\fabalin\\anaconda3\\envs\\mlenv\\lib\\site-packages (from streamlit) (8.0.4)\n",
      "Requirement already satisfied: entrypoints in c:\\users\\fabalin\\anaconda3\\envs\\mlenv\\lib\\site-packages (from altair>=3.2.0->streamlit) (0.4)\n",
      "Requirement already satisfied: jsonschema>=3.0 in c:\\users\\fabalin\\anaconda3\\envs\\mlenv\\lib\\site-packages (from altair>=3.2.0->streamlit) (4.4.0)\n",
      "Requirement already satisfied: jinja2 in c:\\users\\fabalin\\anaconda3\\envs\\mlenv\\lib\\site-packages (from altair>=3.2.0->streamlit) (2.11.3)\n",
      "Requirement already satisfied: toolz in c:\\users\\fabalin\\anaconda3\\envs\\mlenv\\lib\\site-packages (from altair>=3.2.0->streamlit) (0.11.2)\n",
      "Requirement already satisfied: colorama in c:\\users\\fabalin\\anaconda3\\envs\\mlenv\\lib\\site-packages (from click>=7.0->streamlit) (0.4.4)\n",
      "Collecting gitdb<5,>=4.0.1\n",
      "  Downloading gitdb-4.0.9-py3-none-any.whl (63 kB)\n",
      "Collecting smmap<6,>=3.0.1\n",
      "  Downloading smmap-5.0.0-py3-none-any.whl (24 kB)\n",
      "Requirement already satisfied: zipp>=0.5 in c:\\users\\fabalin\\anaconda3\\envs\\mlenv\\lib\\site-packages (from importlib-metadata>=1.4->streamlit) (3.7.0)\n",
      "Requirement already satisfied: importlib-resources>=1.4.0 in c:\\users\\fabalin\\anaconda3\\envs\\mlenv\\lib\\site-packages (from jsonschema>=3.0->altair>=3.2.0->streamlit) (5.2.0)\n",
      "Requirement already satisfied: pyrsistent!=0.17.0,!=0.17.1,!=0.17.2,>=0.14.0 in c:\\users\\fabalin\\anaconda3\\envs\\mlenv\\lib\\site-packages (from jsonschema>=3.0->altair>=3.2.0->streamlit) (0.18.0)\n",
      "Requirement already satisfied: pyparsing!=3.0.5,>=2.0.2 in c:\\users\\fabalin\\anaconda3\\envs\\mlenv\\lib\\site-packages (from packaging>=14.1->streamlit) (3.0.4)\n",
      "Requirement already satisfied: pytz>=2017.3 in c:\\users\\fabalin\\anaconda3\\envs\\mlenv\\lib\\site-packages (from pandas>=0.21.0->streamlit) (2021.3)\n",
      "Requirement already satisfied: ipywidgets>=7.0.0 in c:\\users\\fabalin\\anaconda3\\envs\\mlenv\\lib\\site-packages (from pydeck>=0.1.dev5->streamlit) (7.6.5)\n",
      "Requirement already satisfied: ipykernel>=5.1.2 in c:\\users\\fabalin\\anaconda3\\envs\\mlenv\\lib\\site-packages (from pydeck>=0.1.dev5->streamlit) (6.9.1)\n",
      "Requirement already satisfied: traitlets>=4.3.2 in c:\\users\\fabalin\\anaconda3\\envs\\mlenv\\lib\\site-packages (from pydeck>=0.1.dev5->streamlit) (5.1.1)\n",
      "Requirement already satisfied: jupyter-client<8.0 in c:\\users\\fabalin\\anaconda3\\envs\\mlenv\\lib\\site-packages (from ipykernel>=5.1.2->pydeck>=0.1.dev5->streamlit) (6.1.12)\n",
      "Requirement already satisfied: debugpy<2.0,>=1.0.0 in c:\\users\\fabalin\\anaconda3\\envs\\mlenv\\lib\\site-packages (from ipykernel>=5.1.2->pydeck>=0.1.dev5->streamlit) (1.5.1)\n",
      "Requirement already satisfied: matplotlib-inline<0.2.0,>=0.1.0 in c:\\users\\fabalin\\anaconda3\\envs\\mlenv\\lib\\site-packages (from ipykernel>=5.1.2->pydeck>=0.1.dev5->streamlit) (0.1.2)\n",
      "Requirement already satisfied: ipython>=7.23.1 in c:\\users\\fabalin\\anaconda3\\envs\\mlenv\\lib\\site-packages (from ipykernel>=5.1.2->pydeck>=0.1.dev5->streamlit) (7.31.1)\n",
      "Requirement already satisfied: nest-asyncio in c:\\users\\fabalin\\anaconda3\\envs\\mlenv\\lib\\site-packages (from ipykernel>=5.1.2->pydeck>=0.1.dev5->streamlit) (1.5.5)\n",
      "Requirement already satisfied: jedi>=0.16 in c:\\users\\fabalin\\anaconda3\\envs\\mlenv\\lib\\site-packages (from ipython>=7.23.1->ipykernel>=5.1.2->pydeck>=0.1.dev5->streamlit) (0.18.1)\n",
      "Requirement already satisfied: backcall in c:\\users\\fabalin\\anaconda3\\envs\\mlenv\\lib\\site-packages (from ipython>=7.23.1->ipykernel>=5.1.2->pydeck>=0.1.dev5->streamlit) (0.2.0)\n",
      "Requirement already satisfied: pickleshare in c:\\users\\fabalin\\anaconda3\\envs\\mlenv\\lib\\site-packages (from ipython>=7.23.1->ipykernel>=5.1.2->pydeck>=0.1.dev5->streamlit) (0.7.5)\n",
      "Requirement already satisfied: prompt-toolkit!=3.0.0,!=3.0.1,<3.1.0,>=2.0.0 in c:\\users\\fabalin\\anaconda3\\envs\\mlenv\\lib\\site-packages (from ipython>=7.23.1->ipykernel>=5.1.2->pydeck>=0.1.dev5->streamlit) (3.0.20)\n",
      "Requirement already satisfied: decorator in c:\\users\\fabalin\\anaconda3\\envs\\mlenv\\lib\\site-packages (from ipython>=7.23.1->ipykernel>=5.1.2->pydeck>=0.1.dev5->streamlit) (5.1.1)\n",
      "Requirement already satisfied: setuptools>=18.5 in c:\\users\\fabalin\\anaconda3\\envs\\mlenv\\lib\\site-packages (from ipython>=7.23.1->ipykernel>=5.1.2->pydeck>=0.1.dev5->streamlit) (61.2.0)\n",
      "Requirement already satisfied: pygments in c:\\users\\fabalin\\anaconda3\\envs\\mlenv\\lib\\site-packages (from ipython>=7.23.1->ipykernel>=5.1.2->pydeck>=0.1.dev5->streamlit) (2.11.2)\n",
      "Requirement already satisfied: nbformat>=4.2.0 in c:\\users\\fabalin\\anaconda3\\envs\\mlenv\\lib\\site-packages (from ipywidgets>=7.0.0->pydeck>=0.1.dev5->streamlit) (5.3.0)\n",
      "Requirement already satisfied: ipython-genutils~=0.2.0 in c:\\users\\fabalin\\anaconda3\\envs\\mlenv\\lib\\site-packages (from ipywidgets>=7.0.0->pydeck>=0.1.dev5->streamlit) (0.2.0)\n",
      "Requirement already satisfied: widgetsnbextension~=3.5.0 in c:\\users\\fabalin\\anaconda3\\envs\\mlenv\\lib\\site-packages (from ipywidgets>=7.0.0->pydeck>=0.1.dev5->streamlit) (3.5.2)\n",
      "Requirement already satisfied: jupyterlab-widgets>=1.0.0 in c:\\users\\fabalin\\anaconda3\\envs\\mlenv\\lib\\site-packages (from ipywidgets>=7.0.0->pydeck>=0.1.dev5->streamlit) (1.0.0)\n",
      "Requirement already satisfied: parso<0.9.0,>=0.8.0 in c:\\users\\fabalin\\anaconda3\\envs\\mlenv\\lib\\site-packages (from jedi>=0.16->ipython>=7.23.1->ipykernel>=5.1.2->pydeck>=0.1.dev5->streamlit) (0.8.3)\n",
      "Requirement already satisfied: MarkupSafe>=0.23 in c:\\users\\fabalin\\anaconda3\\envs\\mlenv\\lib\\site-packages (from jinja2->altair>=3.2.0->streamlit) (2.0.1)\n",
      "Requirement already satisfied: pyzmq>=13 in c:\\users\\fabalin\\anaconda3\\envs\\mlenv\\lib\\site-packages (from jupyter-client<8.0->ipykernel>=5.1.2->pydeck>=0.1.dev5->streamlit) (22.3.0)\n",
      "Requirement already satisfied: jupyter-core>=4.6.0 in c:\\users\\fabalin\\anaconda3\\envs\\mlenv\\lib\\site-packages (from jupyter-client<8.0->ipykernel>=5.1.2->pydeck>=0.1.dev5->streamlit) (4.9.2)\n",
      "Requirement already satisfied: pywin32>=1.0 in c:\\users\\fabalin\\anaconda3\\envs\\mlenv\\lib\\site-packages (from jupyter-core>=4.6.0->jupyter-client<8.0->ipykernel>=5.1.2->pydeck>=0.1.dev5->streamlit) (302)\n",
      "Requirement already satisfied: fastjsonschema in c:\\users\\fabalin\\anaconda3\\envs\\mlenv\\lib\\site-packages (from nbformat>=4.2.0->ipywidgets>=7.0.0->pydeck>=0.1.dev5->streamlit) (2.15.1)\n",
      "Requirement already satisfied: wcwidth in c:\\users\\fabalin\\anaconda3\\envs\\mlenv\\lib\\site-packages (from prompt-toolkit!=3.0.0,!=3.0.1,<3.1.0,>=2.0.0->ipython>=7.23.1->ipykernel>=5.1.2->pydeck>=0.1.dev5->streamlit) (0.2.5)\n",
      "Requirement already satisfied: six>=1.5 in c:\\users\\fabalin\\anaconda3\\envs\\mlenv\\lib\\site-packages (from python-dateutil->streamlit) (1.16.0)\n",
      "Requirement already satisfied: certifi>=2017.4.17 in c:\\users\\fabalin\\anaconda3\\envs\\mlenv\\lib\\site-packages (from requests>=2.4->streamlit) (2021.10.8)\n",
      "Requirement already satisfied: idna<4,>=2.5 in c:\\users\\fabalin\\anaconda3\\envs\\mlenv\\lib\\site-packages (from requests>=2.4->streamlit) (3.3)\n",
      "Requirement already satisfied: charset-normalizer~=2.0.0 in c:\\users\\fabalin\\anaconda3\\envs\\mlenv\\lib\\site-packages (from requests>=2.4->streamlit) (2.0.4)\n",
      "Requirement already satisfied: urllib3<1.27,>=1.21.1 in c:\\users\\fabalin\\anaconda3\\envs\\mlenv\\lib\\site-packages (from requests>=2.4->streamlit) (1.26.9)\n",
      "Collecting commonmark<0.10.0,>=0.9.0\n",
      "  Downloading commonmark-0.9.1-py2.py3-none-any.whl (51 kB)\n",
      "Collecting tzdata\n",
      "  Downloading tzdata-2022.1-py2.py3-none-any.whl (339 kB)\n",
      "Collecting pytz-deprecation-shim\n",
      "  Downloading pytz_deprecation_shim-0.1.0.post0-py2.py3-none-any.whl (15 kB)\n",
      "Collecting backports.zoneinfo\n",
      "  Downloading backports.zoneinfo-0.2.1-cp37-cp37m-win_amd64.whl (38 kB)\n",
      "Requirement already satisfied: notebook>=4.4.1 in c:\\users\\fabalin\\anaconda3\\envs\\mlenv\\lib\\site-packages (from widgetsnbextension~=3.5.0->ipywidgets>=7.0.0->pydeck>=0.1.dev5->streamlit) (6.4.8)\n",
      "Requirement already satisfied: Send2Trash>=1.8.0 in c:\\users\\fabalin\\anaconda3\\envs\\mlenv\\lib\\site-packages (from notebook>=4.4.1->widgetsnbextension~=3.5.0->ipywidgets>=7.0.0->pydeck>=0.1.dev5->streamlit) (1.8.0)\n",
      "Requirement already satisfied: argon2-cffi in c:\\users\\fabalin\\anaconda3\\envs\\mlenv\\lib\\site-packages (from notebook>=4.4.1->widgetsnbextension~=3.5.0->ipywidgets>=7.0.0->pydeck>=0.1.dev5->streamlit) (21.3.0)\n",
      "Requirement already satisfied: prometheus-client in c:\\users\\fabalin\\anaconda3\\envs\\mlenv\\lib\\site-packages (from notebook>=4.4.1->widgetsnbextension~=3.5.0->ipywidgets>=7.0.0->pydeck>=0.1.dev5->streamlit) (0.13.1)\n",
      "Requirement already satisfied: terminado>=0.8.3 in c:\\users\\fabalin\\anaconda3\\envs\\mlenv\\lib\\site-packages (from notebook>=4.4.1->widgetsnbextension~=3.5.0->ipywidgets>=7.0.0->pydeck>=0.1.dev5->streamlit) (0.13.1)\n",
      "Requirement already satisfied: nbconvert in c:\\users\\fabalin\\anaconda3\\envs\\mlenv\\lib\\site-packages (from notebook>=4.4.1->widgetsnbextension~=3.5.0->ipywidgets>=7.0.0->pydeck>=0.1.dev5->streamlit) (6.4.4)\n",
      "Requirement already satisfied: pywinpty>=1.1.0 in c:\\users\\fabalin\\anaconda3\\envs\\mlenv\\lib\\site-packages (from terminado>=0.8.3->notebook>=4.4.1->widgetsnbextension~=3.5.0->ipywidgets>=7.0.0->pydeck>=0.1.dev5->streamlit) (2.0.2)\n",
      "Requirement already satisfied: argon2-cffi-bindings in c:\\users\\fabalin\\anaconda3\\envs\\mlenv\\lib\\site-packages (from argon2-cffi->notebook>=4.4.1->widgetsnbextension~=3.5.0->ipywidgets>=7.0.0->pydeck>=0.1.dev5->streamlit) (21.2.0)\n",
      "Requirement already satisfied: cffi>=1.0.1 in c:\\users\\fabalin\\anaconda3\\envs\\mlenv\\lib\\site-packages (from argon2-cffi-bindings->argon2-cffi->notebook>=4.4.1->widgetsnbextension~=3.5.0->ipywidgets>=7.0.0->pydeck>=0.1.dev5->streamlit) (1.15.0)\n",
      "Requirement already satisfied: pycparser in c:\\users\\fabalin\\anaconda3\\envs\\mlenv\\lib\\site-packages (from cffi>=1.0.1->argon2-cffi-bindings->argon2-cffi->notebook>=4.4.1->widgetsnbextension~=3.5.0->ipywidgets>=7.0.0->pydeck>=0.1.dev5->streamlit) (2.21)\n",
      "Requirement already satisfied: pandocfilters>=1.4.1 in c:\\users\\fabalin\\anaconda3\\envs\\mlenv\\lib\\site-packages (from nbconvert->notebook>=4.4.1->widgetsnbextension~=3.5.0->ipywidgets>=7.0.0->pydeck>=0.1.dev5->streamlit) (1.5.0)\n",
      "Requirement already satisfied: mistune<2,>=0.8.1 in c:\\users\\fabalin\\anaconda3\\envs\\mlenv\\lib\\site-packages (from nbconvert->notebook>=4.4.1->widgetsnbextension~=3.5.0->ipywidgets>=7.0.0->pydeck>=0.1.dev5->streamlit) (0.8.4)\n",
      "Requirement already satisfied: defusedxml in c:\\users\\fabalin\\anaconda3\\envs\\mlenv\\lib\\site-packages (from nbconvert->notebook>=4.4.1->widgetsnbextension~=3.5.0->ipywidgets>=7.0.0->pydeck>=0.1.dev5->streamlit) (0.7.1)\n",
      "Requirement already satisfied: testpath in c:\\users\\fabalin\\anaconda3\\envs\\mlenv\\lib\\site-packages (from nbconvert->notebook>=4.4.1->widgetsnbextension~=3.5.0->ipywidgets>=7.0.0->pydeck>=0.1.dev5->streamlit) (0.5.0)\n",
      "Requirement already satisfied: jupyterlab-pygments in c:\\users\\fabalin\\anaconda3\\envs\\mlenv\\lib\\site-packages (from nbconvert->notebook>=4.4.1->widgetsnbextension~=3.5.0->ipywidgets>=7.0.0->pydeck>=0.1.dev5->streamlit) (0.1.2)\n",
      "Requirement already satisfied: nbclient<0.6.0,>=0.5.0 in c:\\users\\fabalin\\anaconda3\\envs\\mlenv\\lib\\site-packages (from nbconvert->notebook>=4.4.1->widgetsnbextension~=3.5.0->ipywidgets>=7.0.0->pydeck>=0.1.dev5->streamlit) (0.5.13)\n",
      "Requirement already satisfied: bleach in c:\\users\\fabalin\\anaconda3\\envs\\mlenv\\lib\\site-packages (from nbconvert->notebook>=4.4.1->widgetsnbextension~=3.5.0->ipywidgets>=7.0.0->pydeck>=0.1.dev5->streamlit) (4.1.0)\n",
      "Requirement already satisfied: beautifulsoup4 in c:\\users\\fabalin\\anaconda3\\envs\\mlenv\\lib\\site-packages (from nbconvert->notebook>=4.4.1->widgetsnbextension~=3.5.0->ipywidgets>=7.0.0->pydeck>=0.1.dev5->streamlit) (4.11.1)\n",
      "Requirement already satisfied: soupsieve>1.2 in c:\\users\\fabalin\\anaconda3\\envs\\mlenv\\lib\\site-packages (from beautifulsoup4->nbconvert->notebook>=4.4.1->widgetsnbextension~=3.5.0->ipywidgets>=7.0.0->pydeck>=0.1.dev5->streamlit) (2.3.1)\n",
      "Requirement already satisfied: webencodings in c:\\users\\fabalin\\anaconda3\\envs\\mlenv\\lib\\site-packages (from bleach->nbconvert->notebook>=4.4.1->widgetsnbextension~=3.5.0->ipywidgets>=7.0.0->pydeck>=0.1.dev5->streamlit) (0.5.1)\n",
      "Building wheels for collected packages: validators\n",
      "  Building wheel for validators (setup.py): started\n",
      "  Building wheel for validators (setup.py): finished with status 'done'\n",
      "  Created wheel for validators: filename=validators-0.20.0-py3-none-any.whl size=19582 sha256=a0259f27231ff563a350b98214d46c8aec4ba9eba98a3c711c36dc0f1324879f\n",
      "  Stored in directory: c:\\users\\fabalin\\appdata\\local\\pip\\cache\\wheels\\5f\\55\\ab\\36a76989f7f88d9ca7b1f68da6d94252bb6a8d6ad4f18e04e9\n",
      "Successfully built validators\n",
      "Installing collected packages: tzdata, smmap, backports.zoneinfo, pytz-deprecation-shim, gitdb, commonmark, validators, tzlocal, semver, rich, pympler, pydeck, pyarrow, gitpython, blinker, altair, streamlit\n",
      "Successfully installed altair-4.2.0 backports.zoneinfo-0.2.1 blinker-1.5 commonmark-0.9.1 gitdb-4.0.9 gitpython-3.1.27 pyarrow-8.0.0 pydeck-0.7.1 pympler-1.0.1 pytz-deprecation-shim-0.1.0.post0 rich-12.5.1 semver-2.13.0 smmap-5.0.0 streamlit-1.11.1 tzdata-2022.1 tzlocal-4.2 validators-0.20.0\n",
      "Requirement already satisfied: pillow in c:\\users\\fabalin\\anaconda3\\envs\\mlenv\\lib\\site-packages (9.0.1)\n"
     ]
    }
   ],
   "source": [
    "! pip install streamlit\n",
    "! pip install pillow "
   ]
  },
  {
   "cell_type": "code",
   "execution_count": null,
   "metadata": {},
   "outputs": [],
   "source": [
    "import streamlit as st \n",
    "st.title(\"Multi-Label Image Classification: XRadar\")\n",
    "st.header(\"Lung Diseases Classification Model\")\n",
    "st.text(\"Upload Chest X-ray Image(s) for Classification.\")\n",
    "\n",
    "import Image"
   ]
  },
  {
   "cell_type": "markdown",
   "metadata": {},
   "source": [
    "Note: the source code is located here: [Plural Insight](https://www.pluralslight.com/guides/deploying-image-classification-on-the-web-with-streamlit-and-heroku)\n",
    "\n",
    "All files must be in .py format and not .ipynb\n",
    "\n",
    "Source code only takes in a single image in a jpeg format so be weary of that. \n",
    "\n",
    "The classification is curently limited to a binary. Change to fit multilabel. "
   ]
  },
  {
   "cell_type": "code",
   "execution_count": null,
   "metadata": {},
   "outputs": [],
   "source": [
    "# import the model to deploy \n",
    "from img_classification import teachable_machine_classification"
   ]
  },
  {
   "cell_type": "code",
   "execution_count": null,
   "metadata": {},
   "outputs": [],
   "source": [
    "uploaded_file = st.file_uploader(\"Choose a chest Xray\", type = \"png\")\n",
    "\n",
    "if uploaded_file is not None:\n",
    "    image = Image.open(uploaded_file)\n",
    "    st.image(image, caption = \"Uploaded Chest Xray\", use_column_width = True )\n",
    "    st.write(\"\")\n",
    "    st.write(\"Analyzing ...\")\n",
    "    label = teachable_machine_classification(image, \"beta_net.h5\")\n",
    "    if label == 0:\n",
    "        st.write(\"No Disease Detected\")\n",
    "    else: \n",
    "        st.write(\"Diseases Found\")\n"
   ]
  },
  {
   "cell_type": "markdown",
   "metadata": {},
   "source": [
    "Create a Heroku account, Download [Heroku CLI](https://devcenter.heroku.com/articles/getting-started-with-python#set-up)\n",
    "\n",
    "Create a [procfile](https://devcenter.heroku.com/articles/procfile)"
   ]
  },
  {
   "cell_type": "markdown",
   "metadata": {},
   "source": []
  }
 ],
 "metadata": {
  "kernelspec": {
   "display_name": "Python 3.7.13 ('mlenv')",
   "language": "python",
   "name": "python3"
  },
  "language_info": {
   "codemirror_mode": {
    "name": "ipython",
    "version": 3
   },
   "file_extension": ".py",
   "mimetype": "text/x-python",
   "name": "python",
   "nbconvert_exporter": "python",
   "pygments_lexer": "ipython3",
   "version": "3.7.13"
  },
  "orig_nbformat": 4,
  "vscode": {
   "interpreter": {
    "hash": "5c1fa0b4963365e064c71d8bf73c6819fefc3ad2c3fc999bb7f7dad28f1ba257"
   }
  }
 },
 "nbformat": 4,
 "nbformat_minor": 2
}
