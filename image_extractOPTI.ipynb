{
 "cells": [
  {
   "cell_type": "markdown",
   "metadata": {},
   "source": [
    "# Extract and Sort CXR Testing and Training Images from NIH CXR Dataset. "
   ]
  },
  {
   "cell_type": "markdown",
   "metadata": {},
   "source": [
    "- This code extracts the CXR image png files from NIH CXR dataset available on [Kaggle](https://www.kaggle.com/datasets/nih-chest-xrays/data). \n",
    "\n",
    "- The code assumes that the parent folder for all downloaded files from dataset is named `NIH-CXR/`. \n",
    "\n",
    "- This code will sort images irregardless of their placement and nesting. \n",
    "\n",
    "- The sorting is based on the list of images provided in the `test_list.txt` and the `train_val_list.txt` files. \n",
    "\n",
    "- Images are sorted to target folders named `test_images` and `train_images` respectively. \n",
    "\n",
    "- Code File has not been ran as of 6/30 *** PLEASE UPDATE UPON VALIDATION ***\n",
    "\n",
    "- The testing images set was sorted via the raw, unrefactored file. Validation can be seen in the version history of this file on github(Note: Please excuse the mess). \n",
    "\n",
    "- The `image_extraction()` function takes in 3 arguements and gives status updates for total images sorted."
   ]
  },
  {
   "cell_type": "code",
   "execution_count": 1,
   "metadata": {},
   "outputs": [],
   "source": [
    "# Import Dependencies \n",
    "import os \n",
    "import shutil as sh \n",
    "import collections as coll"
   ]
  },
  {
   "cell_type": "markdown",
   "metadata": {},
   "source": [
    "### Define Paths for Prerequisite Items: Source Folders, Info, Target Folders. "
   ]
  },
  {
   "cell_type": "code",
   "execution_count": 2,
   "metadata": {},
   "outputs": [],
   "source": [
    "# Define path for parent folder\n",
    "parent = os.path.join(\"../CODE_TEST/\")"
   ]
  },
  {
   "cell_type": "code",
   "execution_count": 3,
   "metadata": {},
   "outputs": [],
   "source": [
    "# Define the path for the text files for train and test sets. \n",
    "\n",
    "test_file = os.path.join(\"test_list.txt\")\n",
    "train_file = os.path.join(\"train_val_list.txt\")"
   ]
  },
  {
   "cell_type": "code",
   "execution_count": 4,
   "metadata": {},
   "outputs": [],
   "source": [
    "# Make destination folders for sorted images \n",
    "os.mkdir(\"test_images/\")\n",
    "os.mkdir(\"train_images/\")"
   ]
  },
  {
   "cell_type": "code",
   "execution_count": 5,
   "metadata": {},
   "outputs": [],
   "source": [
    "# Define paths to Destination folders \n",
    "test_folder = os.path.join(\"test_images/\")\n",
    "train_folder = os.path.join(\"train_images/\")"
   ]
  },
  {
   "cell_type": "markdown",
   "metadata": {},
   "source": [
    "### Define Functions for Extraction and QC"
   ]
  },
  {
   "cell_type": "code",
   "execution_count": 6,
   "metadata": {},
   "outputs": [],
   "source": [
    "# Create a function to open and extract the list of desired images from each text file. \n",
    "\n",
    "def get_desired_images(txt_file):\n",
    "    \n",
    "    # Open the file #cookie jar  \n",
    "    open_file = open(txt_file, \"r\")\n",
    "    \n",
    "    # List contents by reading and turning new lines into different list items. \n",
    "    listify = open_file.read().split(\"\\n\")\n",
    "\n",
    "    # Close the #cookie jar \n",
    "    open_file.close()\n",
    "    \n",
    "    return listify "
   ]
  },
  {
   "cell_type": "code",
   "execution_count": 15,
   "metadata": {},
   "outputs": [],
   "source": [
    "# Create Function to Sort Images \n",
    "# Takes in the list of desired images, destination folder and parent folder as arguements. \n",
    "\n",
    "def image_extraction(desired_image_list, destination_folder, parent_folder):\n",
    "\n",
    "    # Initialize counter\n",
    "    counter = 0\n",
    "    \n",
    "    #list all the files in the current parent folder \n",
    "    for files in os.walk(parent_folder):\n",
    "\n",
    "        # For the images/files in the list of files in current parent folder\n",
    "        for image in files:\n",
    "            \n",
    "            # If they are in the list of desired images\n",
    "            if image in desired_image_list: \n",
    "\n",
    "                # Get the absolute path of the image file \n",
    "                source = os.path.abspath(image)\n",
    "\n",
    "                print(source)\n",
    "                \n",
    "                # Create a copy of the image in the destination folder\n",
    "                sh.copy(source, destination_folder)\n",
    "\n",
    "                # Update counter \n",
    "                counter += 1\n",
    "\n",
    "                # Print status \n",
    "                print(f\"{str(counter)} / {str(len(desired_image_list))} images sorted ... \", end=\"\\r\")\n"
   ]
  },
  {
   "cell_type": "code",
   "execution_count": 8,
   "metadata": {},
   "outputs": [],
   "source": [
    "# Function to confirm the copied files match\n",
    "\n",
    "def qc_copy_folder(desired_image_list, destination_folder):\n",
    "\n",
    "    # Get a list of all the files in the current folder of copied images \n",
    "    copied_files = os.listdir(destination_folder)\n",
    "    \n",
    "    # Check to see if they match\n",
    "    if coll.Counter(copied_files) == coll.Counter(desired_image_list):\n",
    "        return print(\"You got a star! All files match.\")\n",
    "    else:\n",
    "        return print(\"This ain't it chief!\")"
   ]
  },
  {
   "cell_type": "markdown",
   "metadata": {},
   "source": [
    "### Excecute Functions "
   ]
  },
  {
   "cell_type": "code",
   "execution_count": 9,
   "metadata": {},
   "outputs": [
    {
     "name": "stdout",
     "output_type": "stream",
     "text": [
      "25596\n"
     ]
    }
   ],
   "source": [
    "# Get the test set Confirm size is [test_list = 25596]\n",
    "test_list = get_desired_images(test_file)\n",
    "print(len(test_list))"
   ]
  },
  {
   "cell_type": "code",
   "execution_count": 10,
   "metadata": {},
   "outputs": [
    {
     "name": "stdout",
     "output_type": "stream",
     "text": [
      "86524\n"
     ]
    }
   ],
   "source": [
    "# Get the train set Confirm size is [train_val_list = 86524]\n",
    "train_list = get_desired_images(train_file)\n",
    "print(len(train_list))"
   ]
  },
  {
   "cell_type": "code",
   "execution_count": 17,
   "metadata": {},
   "outputs": [],
   "source": [
    "# Perform the task on test_list \n",
    "image_extraction(test_list, test_folder, parent)"
   ]
  },
  {
   "cell_type": "code",
   "execution_count": 12,
   "metadata": {},
   "outputs": [
    {
     "name": "stdout",
     "output_type": "stream",
     "text": [
      "This ain't it chief!\n"
     ]
    }
   ],
   "source": [
    "# Perform QC on the copied files \n",
    "qc_copy_folder(test_list, test_folder)"
   ]
  },
  {
   "cell_type": "code",
   "execution_count": 13,
   "metadata": {},
   "outputs": [],
   "source": [
    "# Perform the task on training_list \n",
    "image_extraction(train_list, train_folder, parent)"
   ]
  },
  {
   "cell_type": "code",
   "execution_count": 14,
   "metadata": {},
   "outputs": [
    {
     "name": "stdout",
     "output_type": "stream",
     "text": [
      "This ain't it chief!\n"
     ]
    }
   ],
   "source": [
    "# Perform QC on the copied files \n",
    "qc_copy_folder(train_list, train_folder)"
   ]
  }
 ],
 "metadata": {
  "kernelspec": {
   "display_name": "Python 3.7.13 ('mlenv')",
   "language": "python",
   "name": "python3"
  },
  "language_info": {
   "codemirror_mode": {
    "name": "ipython",
    "version": 3
   },
   "file_extension": ".py",
   "mimetype": "text/x-python",
   "name": "python",
   "nbconvert_exporter": "python",
   "pygments_lexer": "ipython3",
   "version": "3.7.13"
  },
  "orig_nbformat": 4,
  "vscode": {
   "interpreter": {
    "hash": "5c1fa0b4963365e064c71d8bf73c6819fefc3ad2c3fc999bb7f7dad28f1ba257"
   }
  }
 },
 "nbformat": 4,
 "nbformat_minor": 2
}
