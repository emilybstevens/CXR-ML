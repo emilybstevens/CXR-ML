{
 "cells": [
  {
   "cell_type": "code",
   "execution_count": 1,
   "metadata": {},
   "outputs": [],
   "source": [
    "import pandas as pd\n",
    "import json "
   ]
  },
  {
   "cell_type": "code",
   "execution_count": 2,
   "metadata": {},
   "outputs": [
    {
     "data": {
      "text/html": [
       "<div>\n",
       "<style scoped>\n",
       "    .dataframe tbody tr th:only-of-type {\n",
       "        vertical-align: middle;\n",
       "    }\n",
       "\n",
       "    .dataframe tbody tr th {\n",
       "        vertical-align: top;\n",
       "    }\n",
       "\n",
       "    .dataframe thead th {\n",
       "        text-align: right;\n",
       "    }\n",
       "</style>\n",
       "<table border=\"1\" class=\"dataframe\">\n",
       "  <thead>\n",
       "    <tr style=\"text-align: right;\">\n",
       "      <th></th>\n",
       "      <th>xray_number</th>\n",
       "      <th>image_index</th>\n",
       "      <th>patient_id</th>\n",
       "      <th>age</th>\n",
       "      <th>gender</th>\n",
       "      <th>view_position</th>\n",
       "      <th>highest_class</th>\n",
       "      <th>highest_label</th>\n",
       "    </tr>\n",
       "  </thead>\n",
       "  <tbody>\n",
       "    <tr>\n",
       "      <th>0</th>\n",
       "      <td>1</td>\n",
       "      <td>00000001_000.png</td>\n",
       "      <td>1</td>\n",
       "      <td>58</td>\n",
       "      <td>M</td>\n",
       "      <td>PA</td>\n",
       "      <td>2</td>\n",
       "      <td>Acute</td>\n",
       "    </tr>\n",
       "    <tr>\n",
       "      <th>1</th>\n",
       "      <td>2</td>\n",
       "      <td>00000001_001.png</td>\n",
       "      <td>1</td>\n",
       "      <td>58</td>\n",
       "      <td>M</td>\n",
       "      <td>PA</td>\n",
       "      <td>2</td>\n",
       "      <td>Acute</td>\n",
       "    </tr>\n",
       "    <tr>\n",
       "      <th>2</th>\n",
       "      <td>3</td>\n",
       "      <td>00000001_002.png</td>\n",
       "      <td>1</td>\n",
       "      <td>58</td>\n",
       "      <td>M</td>\n",
       "      <td>PA</td>\n",
       "      <td>3</td>\n",
       "      <td>Emergent</td>\n",
       "    </tr>\n",
       "    <tr>\n",
       "      <th>3</th>\n",
       "      <td>4</td>\n",
       "      <td>00000002_000.png</td>\n",
       "      <td>2</td>\n",
       "      <td>81</td>\n",
       "      <td>M</td>\n",
       "      <td>PA</td>\n",
       "      <td>0</td>\n",
       "      <td>No Finding</td>\n",
       "    </tr>\n",
       "    <tr>\n",
       "      <th>4</th>\n",
       "      <td>5</td>\n",
       "      <td>00000003_000.png</td>\n",
       "      <td>3</td>\n",
       "      <td>81</td>\n",
       "      <td>F</td>\n",
       "      <td>PA</td>\n",
       "      <td>1</td>\n",
       "      <td>Chronic</td>\n",
       "    </tr>\n",
       "  </tbody>\n",
       "</table>\n",
       "</div>"
      ],
      "text/plain": [
       "   xray_number       image_index  patient_id  age gender view_position  \\\n",
       "0            1  00000001_000.png           1   58      M            PA   \n",
       "1            2  00000001_001.png           1   58      M            PA   \n",
       "2            3  00000001_002.png           1   58      M            PA   \n",
       "3            4  00000002_000.png           2   81      M            PA   \n",
       "4            5  00000003_000.png           3   81      F            PA   \n",
       "\n",
       "   highest_class highest_label  \n",
       "0              2         Acute  \n",
       "1              2         Acute  \n",
       "2              3      Emergent  \n",
       "3              0    No Finding  \n",
       "4              1       Chronic  "
      ]
     },
     "execution_count": 2,
     "metadata": {},
     "output_type": "execute_result"
    }
   ],
   "source": [
    "file = \"triage_levels.csv\"\n",
    "import_df = pd.read_csv(file, index_col=False)\n",
    "import_df.head(5)"
   ]
  },
  {
   "cell_type": "code",
   "execution_count": 3,
   "metadata": {},
   "outputs": [
    {
     "data": {
      "text/plain": [
       "Index(['xray_number', 'image_index', 'patient_id', 'age', 'gender',\n",
       "       'view_position', 'highest_class', 'highest_label'],\n",
       "      dtype='object')"
      ]
     },
     "execution_count": 3,
     "metadata": {},
     "output_type": "execute_result"
    }
   ],
   "source": [
    "import_df.columns"
   ]
  },
  {
   "cell_type": "code",
   "execution_count": 11,
   "metadata": {},
   "outputs": [],
   "source": [
    "xray_number = import_df['xray_number']\n",
    "image_index = import_df['image_index']\n",
    "patient_id = import_df['patient_id']\n",
    "age = import_df['age']\n",
    "gender = import_df['gender']\n",
    "view_position = import_df['view_position']\n",
    "highest_class = import_df['highest_class']\n",
    "highest_label = import_df['highest_label']\n"
   ]
  },
  {
   "cell_type": "code",
   "execution_count": 23,
   "metadata": {},
   "outputs": [],
   "source": [
    "df_to_json = pd.DataFrame({\n",
    "    'index': xray_number,\n",
    "    'xray_number': xray_number,\n",
    "    'image_index': image_index,\n",
    "    'patient_id': patient_id, \n",
    "    'age': age, \n",
    "    'view_position': view_position,\n",
    "    'highest_class': highest_class,\n",
    "    'highest_label': highest_label\n",
    "}).set_index('index')"
   ]
  },
  {
   "cell_type": "code",
   "execution_count": 24,
   "metadata": {},
   "outputs": [
    {
     "data": {
      "text/html": [
       "<div>\n",
       "<style scoped>\n",
       "    .dataframe tbody tr th:only-of-type {\n",
       "        vertical-align: middle;\n",
       "    }\n",
       "\n",
       "    .dataframe tbody tr th {\n",
       "        vertical-align: top;\n",
       "    }\n",
       "\n",
       "    .dataframe thead th {\n",
       "        text-align: right;\n",
       "    }\n",
       "</style>\n",
       "<table border=\"1\" class=\"dataframe\">\n",
       "  <thead>\n",
       "    <tr style=\"text-align: right;\">\n",
       "      <th></th>\n",
       "      <th>xray_number</th>\n",
       "      <th>image_index</th>\n",
       "      <th>patient_id</th>\n",
       "      <th>age</th>\n",
       "      <th>view_position</th>\n",
       "      <th>highest_class</th>\n",
       "      <th>highest_label</th>\n",
       "    </tr>\n",
       "    <tr>\n",
       "      <th>index</th>\n",
       "      <th></th>\n",
       "      <th></th>\n",
       "      <th></th>\n",
       "      <th></th>\n",
       "      <th></th>\n",
       "      <th></th>\n",
       "      <th></th>\n",
       "    </tr>\n",
       "  </thead>\n",
       "  <tbody>\n",
       "    <tr>\n",
       "      <th>1</th>\n",
       "      <td>1</td>\n",
       "      <td>00000001_000.png</td>\n",
       "      <td>1</td>\n",
       "      <td>58</td>\n",
       "      <td>PA</td>\n",
       "      <td>2</td>\n",
       "      <td>Acute</td>\n",
       "    </tr>\n",
       "    <tr>\n",
       "      <th>2</th>\n",
       "      <td>2</td>\n",
       "      <td>00000001_001.png</td>\n",
       "      <td>1</td>\n",
       "      <td>58</td>\n",
       "      <td>PA</td>\n",
       "      <td>2</td>\n",
       "      <td>Acute</td>\n",
       "    </tr>\n",
       "    <tr>\n",
       "      <th>3</th>\n",
       "      <td>3</td>\n",
       "      <td>00000001_002.png</td>\n",
       "      <td>1</td>\n",
       "      <td>58</td>\n",
       "      <td>PA</td>\n",
       "      <td>3</td>\n",
       "      <td>Emergent</td>\n",
       "    </tr>\n",
       "    <tr>\n",
       "      <th>4</th>\n",
       "      <td>4</td>\n",
       "      <td>00000002_000.png</td>\n",
       "      <td>2</td>\n",
       "      <td>81</td>\n",
       "      <td>PA</td>\n",
       "      <td>0</td>\n",
       "      <td>No Finding</td>\n",
       "    </tr>\n",
       "    <tr>\n",
       "      <th>5</th>\n",
       "      <td>5</td>\n",
       "      <td>00000003_000.png</td>\n",
       "      <td>3</td>\n",
       "      <td>81</td>\n",
       "      <td>PA</td>\n",
       "      <td>1</td>\n",
       "      <td>Chronic</td>\n",
       "    </tr>\n",
       "  </tbody>\n",
       "</table>\n",
       "</div>"
      ],
      "text/plain": [
       "       xray_number       image_index  patient_id  age view_position  \\\n",
       "index                                                                 \n",
       "1                1  00000001_000.png           1   58            PA   \n",
       "2                2  00000001_001.png           1   58            PA   \n",
       "3                3  00000001_002.png           1   58            PA   \n",
       "4                4  00000002_000.png           2   81            PA   \n",
       "5                5  00000003_000.png           3   81            PA   \n",
       "\n",
       "       highest_class highest_label  \n",
       "index                               \n",
       "1                  2         Acute  \n",
       "2                  2         Acute  \n",
       "3                  3      Emergent  \n",
       "4                  0    No Finding  \n",
       "5                  1       Chronic  "
      ]
     },
     "execution_count": 24,
     "metadata": {},
     "output_type": "execute_result"
    }
   ],
   "source": [
    "df_to_json.head(5)"
   ]
  },
  {
   "cell_type": "code",
   "execution_count": 25,
   "metadata": {},
   "outputs": [
    {
     "data": {
      "text/html": [
       "<div>\n",
       "<style scoped>\n",
       "    .dataframe tbody tr th:only-of-type {\n",
       "        vertical-align: middle;\n",
       "    }\n",
       "\n",
       "    .dataframe tbody tr th {\n",
       "        vertical-align: top;\n",
       "    }\n",
       "\n",
       "    .dataframe thead th {\n",
       "        text-align: right;\n",
       "    }\n",
       "</style>\n",
       "<table border=\"1\" class=\"dataframe\">\n",
       "  <thead>\n",
       "    <tr style=\"text-align: right;\">\n",
       "      <th></th>\n",
       "      <th>xray_number</th>\n",
       "      <th>image_index</th>\n",
       "      <th>patient_id</th>\n",
       "      <th>age</th>\n",
       "      <th>view_position</th>\n",
       "      <th>highest_class</th>\n",
       "      <th>highest_label</th>\n",
       "    </tr>\n",
       "    <tr>\n",
       "      <th>index</th>\n",
       "      <th></th>\n",
       "      <th></th>\n",
       "      <th></th>\n",
       "      <th></th>\n",
       "      <th></th>\n",
       "      <th></th>\n",
       "      <th></th>\n",
       "    </tr>\n",
       "  </thead>\n",
       "  <tbody>\n",
       "    <tr>\n",
       "      <th>1</th>\n",
       "      <td>1</td>\n",
       "      <td>00000001_000.png</td>\n",
       "      <td>1</td>\n",
       "      <td>58</td>\n",
       "      <td>PA</td>\n",
       "      <td>2</td>\n",
       "      <td>Acute</td>\n",
       "    </tr>\n",
       "    <tr>\n",
       "      <th>2</th>\n",
       "      <td>2</td>\n",
       "      <td>00000001_001.png</td>\n",
       "      <td>1</td>\n",
       "      <td>58</td>\n",
       "      <td>PA</td>\n",
       "      <td>2</td>\n",
       "      <td>Acute</td>\n",
       "    </tr>\n",
       "    <tr>\n",
       "      <th>3</th>\n",
       "      <td>3</td>\n",
       "      <td>00000001_002.png</td>\n",
       "      <td>1</td>\n",
       "      <td>58</td>\n",
       "      <td>PA</td>\n",
       "      <td>3</td>\n",
       "      <td>Emergent</td>\n",
       "    </tr>\n",
       "    <tr>\n",
       "      <th>4</th>\n",
       "      <td>4</td>\n",
       "      <td>00000002_000.png</td>\n",
       "      <td>2</td>\n",
       "      <td>81</td>\n",
       "      <td>PA</td>\n",
       "      <td>0</td>\n",
       "      <td>No Finding</td>\n",
       "    </tr>\n",
       "    <tr>\n",
       "      <th>5</th>\n",
       "      <td>5</td>\n",
       "      <td>00000003_000.png</td>\n",
       "      <td>3</td>\n",
       "      <td>81</td>\n",
       "      <td>PA</td>\n",
       "      <td>1</td>\n",
       "      <td>Chronic</td>\n",
       "    </tr>\n",
       "  </tbody>\n",
       "</table>\n",
       "</div>"
      ],
      "text/plain": [
       "       xray_number       image_index  patient_id  age view_position  \\\n",
       "index                                                                 \n",
       "1                1  00000001_000.png           1   58            PA   \n",
       "2                2  00000001_001.png           1   58            PA   \n",
       "3                3  00000001_002.png           1   58            PA   \n",
       "4                4  00000002_000.png           2   81            PA   \n",
       "5                5  00000003_000.png           3   81            PA   \n",
       "\n",
       "       highest_class highest_label  \n",
       "index                               \n",
       "1                  2         Acute  \n",
       "2                  2         Acute  \n",
       "3                  3      Emergent  \n",
       "4                  0    No Finding  \n",
       "5                  1       Chronic  "
      ]
     },
     "execution_count": 25,
     "metadata": {},
     "output_type": "execute_result"
    }
   ],
   "source": [
    "test_df = df_to_json.head()\n",
    "test_df"
   ]
  },
  {
   "cell_type": "code",
   "execution_count": 27,
   "metadata": {},
   "outputs": [
    {
     "data": {
      "text/plain": [
       "'{\"columns\": [\"xray_number\", \"image_index\", \"patient_id\", \"age\", \"view_position\", \"highest_class\", \"highest_label\"], \"index\": [1, 2, 3, 4, 5], \"data\": [[1, \"00000001_000.png\", 1, 58, \"PA\", 2, \"Acute\"], [2, \"00000001_001.png\", 1, 58, \"PA\", 2, \"Acute\"], [3, \"00000001_002.png\", 1, 58, \"PA\", 3, \"Emergent\"], [4, \"00000002_000.png\", 2, 81, \"PA\", 0, \"No Finding\"], [5, \"00000003_000.png\", 3, 81, \"PA\", 1, \"Chronic\"]]}'"
      ]
     },
     "execution_count": 27,
     "metadata": {},
     "output_type": "execute_result"
    }
   ],
   "source": [
    "result_test = test_df.to_json(orient='split')\n",
    "parsed = json.loads(result_test)\n",
    "json.dumps(parsed)"
   ]
  },
  {
   "cell_type": "code",
   "execution_count": 32,
   "metadata": {},
   "outputs": [],
   "source": [
    "test_df.to_json(r'json_test3.json', orient='split', indent=4)"
   ]
  },
  {
   "cell_type": "code",
   "execution_count": 33,
   "metadata": {},
   "outputs": [],
   "source": [
    "df_to_json.to_json(r'index_by_number.json', orient='split', indent=4)\n"
   ]
  },
  {
   "cell_type": "code",
   "execution_count": null,
   "metadata": {},
   "outputs": [],
   "source": []
  }
 ],
 "metadata": {
  "kernelspec": {
   "display_name": "Python 3.7.11 ('PythonData')",
   "language": "python",
   "name": "python3"
  },
  "language_info": {
   "codemirror_mode": {
    "name": "ipython",
    "version": 3
   },
   "file_extension": ".py",
   "mimetype": "text/x-python",
   "name": "python",
   "nbconvert_exporter": "python",
   "pygments_lexer": "ipython3",
   "version": "3.7.11"
  },
  "orig_nbformat": 4,
  "vscode": {
   "interpreter": {
    "hash": "e66f4def29d0fe88c5240c2edda4daf14bae52cf0be029541acd012bcfdf04eb"
   }
  }
 },
 "nbformat": 4,
 "nbformat_minor": 2
}
