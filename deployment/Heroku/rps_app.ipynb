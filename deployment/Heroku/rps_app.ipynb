{
 "cells": [
  {
   "cell_type": "code",
   "execution_count": 2,
   "metadata": {},
   "outputs": [
    {
     "name": "stdout",
     "output_type": "stream",
     "text": [
      "Collecting tensorflow_addons\n",
      "  Downloading tensorflow_addons-0.17.1-cp37-cp37m-win_amd64.whl (758 kB)\n",
      "Requirement already satisfied: packaging in c:\\users\\fabalin\\anaconda3\\envs\\mlenv\\lib\\site-packages (from tensorflow_addons) (21.3)\n",
      "Collecting typeguard>=2.7\n",
      "  Downloading typeguard-2.13.3-py3-none-any.whl (17 kB)\n",
      "Requirement already satisfied: pyparsing!=3.0.5,>=2.0.2 in c:\\users\\fabalin\\anaconda3\\envs\\mlenv\\lib\\site-packages (from packaging->tensorflow_addons) (3.0.4)\n",
      "Installing collected packages: typeguard, tensorflow-addons\n",
      "Successfully installed tensorflow-addons-0.17.1 typeguard-2.13.3\n"
     ]
    }
   ],
   "source": [
    "! pip install tensorflow_addons"
   ]
  },
  {
   "cell_type": "code",
   "execution_count": 5,
   "metadata": {},
   "outputs": [],
   "source": [
    "# Import Trained Model \n",
    "\n",
    "import tensorflow as tf\n",
    "import tensorflow_addons as tfa\n",
    "import numpy as np \n",
    "import pandas as pd \n"
   ]
  },
  {
   "cell_type": "code",
   "execution_count": null,
   "metadata": {},
   "outputs": [],
   "source": [
    "# Import Model \n",
    "model = tf.keras.models.load_model('../../b_model.h5')"
   ]
  },
  {
   "cell_type": "code",
   "execution_count": null,
   "metadata": {},
   "outputs": [],
   "source": [
    "# Write text \n",
    "import streamlit as st\n",
    "st.title(\"Chest X-Ray Multi-Label Image Classification\")\n",
    "st.header(\"This is a multi-label image classification web-app designed to identify 13 diseases in chest X-ray images.\")\n",
    "uploaded_files = st.file_uploader(\"Please upload image file(s)\", type=[\"jpg\", \"png\"], accept_multiple_files= True)"
   ]
  },
  {
   "cell_type": "code",
   "execution_count": 4,
   "metadata": {},
   "outputs": [],
   "source": [
    "def parse_function(filename):\n",
    "    \"\"\"Function that returns a tuple of normalized image array and labels array.\n",
    "    Args:\n",
    "        filename: string representing path to image\n",
    "        label: 0/1 one-dimensional array of size N_LABELS\n",
    "    \"\"\"\n",
    "    \n",
    "    # Read an image from a file\n",
    "    image_string = tf.io.read_file(filename)\n",
    "    # Decode it into a dense vector\n",
    "    image_decoded = tf.image.decode_image(image_string, channels=3)\n",
    "    \n",
    "    # Equalize the Image \n",
    "    image_equalized = tfa.image.equalize(image_decoded)\n",
    "    # Perform Gaussian Filtering of the Image\n",
    "    image_gaus = tfa.image.gaussian_filter2d(image_equalized)\n",
    "    \n",
    "    # Resize it to fixed shape\n",
    "    image_resized = tf.image.resize(image_gaus, [224, 224])\n",
    "    # Normalize it from [0, 255] to [0.0, 1.0]\n",
    "    image_normalized = image_resized / 255.0\n",
    "    return image_normalized"
   ]
  },
  {
   "cell_type": "code",
   "execution_count": null,
   "metadata": {},
   "outputs": [],
   "source": [
    "# Define Constants for the image batcher function\n",
    "BATCH_SIZE = 32 # Big enough to not crash the processor\n",
    "AUTOTUNE = tf.data.experimental.AUTOTUNE # Adapt preprocessing and prefetching dynamically to reduce GPU and CPU idle time"
   ]
  },
  {
   "cell_type": "code",
   "execution_count": null,
   "metadata": {},
   "outputs": [],
   "source": [
    "# Function to Generate the dataset required\n",
    "\n",
    "def create_dataset(filenames):\n",
    "    \"\"\"Load and parse dataset.\n",
    "    Args:\n",
    "        filenames: list of image paths\n",
    "        labels: numpy array of shape (BATCH_SIZE, N_LABELS)\n",
    "        is_training: boolean to indicate training mode\n",
    "    \"\"\"\n",
    "    \n",
    "    # Create a first dataset of file paths and labels\n",
    "    dataset = tf.data.Dataset.from_tensor_slices(filenames)\n",
    "    # Parse and preprocess observations in parallel\n",
    "    dataset = dataset.map(parse_function, num_parallel_calls=AUTOTUNE)\n",
    "        \n",
    "    # Batch the data for multiple steps\n",
    "    dataset = dataset.batch(BATCH_SIZE)\n",
    "    # Fetch batches in the background while the model is training.\n",
    "    dataset = dataset.prefetch(buffer_size=AUTOTUNE)\n",
    "    \n",
    "    return dataset"
   ]
  },
  {
   "cell_type": "code",
   "execution_count": null,
   "metadata": {},
   "outputs": [],
   "source": [
    "# Define Disease labels \n",
    "\n",
    "labels = ['Atelectasis',\n",
    " 'Cardiomegaly',\n",
    " 'Consolidation',\n",
    " 'Edema',\n",
    " 'Effusion',\n",
    " 'Emphysema',\n",
    " 'Fibrosis',\n",
    " 'Infiltration',\n",
    " 'Mass',\n",
    " 'Nodule',\n",
    " 'Pleural_Thickening',\n",
    " 'Pneumonia',\n",
    " 'Pneumothorax']"
   ]
  },
  {
   "cell_type": "code",
   "execution_count": null,
   "metadata": {},
   "outputs": [],
   "source": [
    "# Create dataset from uploaded images\n",
    "image_data = create_dataset(uploaded_files)\n",
    "# Predict dataset from uploaded images \n",
    "multi_label_scores = model.predict(image_data)"
   ]
  },
  {
   "cell_type": "code",
   "execution_count": null,
   "metadata": {},
   "outputs": [],
   "source": [
    "# Define the threshold for positive hits \n",
    "threshold = st.slider('Set threshold for positive result', 0, 100, 20)\n",
    "st.write('Current probability threshold is ', threshold, '%')"
   ]
  },
  {
   "cell_type": "code",
   "execution_count": null,
   "metadata": {},
   "outputs": [],
   "source": [
    "# See Predictions greater than x% for the provisional model and save to dataframe \n",
    "predictions = (multi_label_scores > (threshold/100)).astype(int)\n",
    "#columns should be the same order of y_col\n",
    "results=pd.DataFrame(predictions, columns=labels)\n",
    "results[\"Filenames\"]=uploaded_files\n",
    "ordered_cols=[\"Filenames\"]+labels\n",
    "results=results[ordered_cols]"
   ]
  },
  {
   "cell_type": "code",
   "execution_count": null,
   "metadata": {},
   "outputs": [],
   "source": [
    "# Function to take in a dataframe of binary labels from CNN and assign Triage levels in a new column ['Triage']\n",
    "\n",
    "def triage_classifier(df):\n",
    "\n",
    "    copy_df = df.copy() # Creates a copy of the dataframe \n",
    "    copy_df['Triage'] = np.nan # Creates a new empty column for the triage assignment \n",
    "    \n",
    "    for ind in copy_df.index: # loops through dataframe based on index\n",
    "        # Emergent = Atelectasis, Consolidation, Edema, Effusion, Infiltration, Pneumothorax\n",
    "        if (copy_df['Atelectasis'][ind] == 1)\\\n",
    "            or (copy_df['Consolidation'][ind] ==1)\\\n",
    "                or (copy_df['Edema'][ind] == 1)\\\n",
    "                    or (copy_df['Effusion'][ind] == 1)\\\n",
    "                        or (copy_df['Infiltration'][ind] == 1)\\\n",
    "                            or (copy_df['Pneumothorax'][ind] == 1):\n",
    "                            copy_df['Triage'][ind] = 'Emergent'\n",
    "\n",
    "        # Acute = Mass, Pneumonia. Hernia is ignored due to insufficient sample size.                    \n",
    "        elif (copy_df['Mass'][ind] == 1) or (copy_df['Pneumonia'][ind] == 1):\n",
    "            copy_df['Triage'][ind] = 'Acute'\n",
    "\n",
    "        # Chronic = Cardiomegaly, Emphysema, Fibrosis, Nodule, Pleural Thickening \n",
    "        elif (copy_df['Cardiomegaly'][ind] == 1)\\\n",
    "            or (copy_df['Emphysema'][ind] ==1)\\\n",
    "                or (copy_df['Fibrosis'][ind] == 1)\\\n",
    "                    or (copy_df['Nodule'][ind] == 1)\\\n",
    "                        or (copy_df['Pleural_Thickening'][ind] == 1):\n",
    "                        copy_df['Triage'][ind] = 'Chronic'\n",
    "        # If no hits, then 'No Finding' \n",
    "        else: \n",
    "            copy_df['Triage'][ind] = 'No Finding'\n",
    "\n",
    "    return copy_df"
   ]
  },
  {
   "cell_type": "code",
   "execution_count": null,
   "metadata": {},
   "outputs": [],
   "source": [
    "# Define Color Constants for Triage Classes \n",
    "\n",
    "EMERGENT =  'color: red;'\n",
    "ACUTE = 'color: orange;'\n",
    "CHRONIC = 'color: yellow;'\n",
    "NO_FINDING = 'color: green;'"
   ]
  },
  {
   "cell_type": "code",
   "execution_count": 6,
   "metadata": {},
   "outputs": [],
   "source": [
    "# Define Style functions \n",
    "def emergent_color_hits(series):\n",
    "    highlight = EMERGENT\n",
    "    default = ''\n",
    "    return [highlight if e == 1 else default for e in series]\n",
    "\n",
    "def acute_color_hits(series):\n",
    "    highlight = ACUTE\n",
    "    default = ''\n",
    "    return [highlight if e == 1 else default for e in series]\n",
    "\n",
    "def chronic_color_hits(series):\n",
    "    highlight = CHRONIC\n",
    "    default = ''\n",
    "    return [highlight if e == 1 else default for e in series]\n",
    "\n",
    "def triage_colors(cell_value):\n",
    "    emergent_highlight = EMERGENT\n",
    "    acute_highlight = ACUTE\n",
    "    chronic_highlight = CHRONIC\n",
    "    default = NO_FINDING\n",
    "    if cell_value == 'Emergent':\n",
    "        return emergent_highlight\n",
    "    elif cell_value == 'Acute':\n",
    "        return acute_highlight\n",
    "    elif cell_value =='Chronic':\n",
    "        return chronic_highlight\n",
    "    else:\n",
    "        return default "
   ]
  },
  {
   "cell_type": "code",
   "execution_count": null,
   "metadata": {},
   "outputs": [],
   "source": [
    "\n",
    "# Assign Triage Classifications\n",
    "triaged_df = triage_classifier(results)\n",
    "\n",
    "st.dataframe(triaged_df)\n",
    "\n",
    "# .style\n",
    "# .apply(emergent_color_hits, axis = 0, subset = ['Atelectasis', 'Consolidation', 'Edema', 'Effusion', 'Infiltration', 'Pneumothorax'])\n",
    "# .apply(acute_color_hits, axis = 0, subset = ['Mass', 'Pneumonia'])\n",
    "# .apply(chronic_color_hits, axis = 0, subset = ['Cardiomegaly', 'Emphysema', 'Fibrosis', 'Nodule', 'Pleural_Thickening'])\n",
    "# .apply(triage_colors, axis = 1, subset = ['Triage']))"
   ]
  }
 ],
 "metadata": {
  "kernelspec": {
   "display_name": "Python 3.7.13 ('mlenv')",
   "language": "python",
   "name": "python3"
  },
  "language_info": {
   "codemirror_mode": {
    "name": "ipython",
    "version": 3
   },
   "file_extension": ".py",
   "mimetype": "text/x-python",
   "name": "python",
   "nbconvert_exporter": "python",
   "pygments_lexer": "ipython3",
   "version": "3.7.13"
  },
  "orig_nbformat": 4,
  "vscode": {
   "interpreter": {
    "hash": "5c1fa0b4963365e064c71d8bf73c6819fefc3ad2c3fc999bb7f7dad28f1ba257"
   }
  }
 },
 "nbformat": 4,
 "nbformat_minor": 2
}
