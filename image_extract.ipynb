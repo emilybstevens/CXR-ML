{
 "cells": [
  {
   "cell_type": "code",
   "execution_count": 27,
   "metadata": {},
   "outputs": [],
   "source": [
    "# Import Dependencies \n",
    "import os \n",
    "import shutil as sh \n",
    "import re \n",
    "import collections as coll\n"
   ]
  },
  {
   "cell_type": "code",
   "execution_count": 18,
   "metadata": {},
   "outputs": [],
   "source": [
    "# Define the path for the text files for train and test sets. \n",
    "\n",
    "test_file = os.path.join(\"test_list.txt\")\n",
    "train_file = os.path.join(\"train_val_list.txt\")"
   ]
  },
  {
   "cell_type": "code",
   "execution_count": 19,
   "metadata": {},
   "outputs": [],
   "source": [
    "# Create a function to open and extract the list of desired images from each text file. \n",
    "\n",
    "def get_desired_images(txt_file):\n",
    "    \n",
    "    # Open the file #cookie jar  \n",
    "    open_file = open(txt_file, \"r\")\n",
    "    \n",
    "    # List contents by reading and turning new lines into different list items. \n",
    "    listify = open_file.read().split(\"\\n\")\n",
    "\n",
    "    # Close the #cookie jar \n",
    "    open_file.close()\n",
    "    \n",
    "    return listify "
   ]
  },
  {
   "cell_type": "code",
   "execution_count": 20,
   "metadata": {},
   "outputs": [
    {
     "name": "stdout",
     "output_type": "stream",
     "text": [
      "25596\n"
     ]
    }
   ],
   "source": [
    "# Get the test set Confirm size is [test_list = 25596]\n",
    "test_list = get_desired_images(test_file)\n",
    "print(len(test_list))"
   ]
  },
  {
   "cell_type": "code",
   "execution_count": 21,
   "metadata": {},
   "outputs": [
    {
     "name": "stdout",
     "output_type": "stream",
     "text": [
      "86524\n"
     ]
    }
   ],
   "source": [
    "# Get the train set Confirm size is [train_val_list = 86524]\n",
    "train_list = get_desired_images(train_file)\n",
    "print(len(train_list))"
   ]
  },
  {
   "cell_type": "code",
   "execution_count": 22,
   "metadata": {},
   "outputs": [
    {
     "name": "stdout",
     "output_type": "stream",
     "text": [
      "['images_001', 'images_002', 'images_003', 'images_004', 'images_005', 'images_006', 'images_007', 'images_008', 'images_009', 'images_010', 'images_011', 'images_012']\n"
     ]
    }
   ],
   "source": [
    "# Define the path for the central folder where image files are stored\n",
    "parent = os.path.join(\"../NIH-CXR/\")\n",
    "\n",
    "# Get all folder names in current folder directory. \n",
    "all_folders = [f.name for f in os.scandir(parent) if f.is_dir()]\n",
    "\n",
    "# Extract all image folder names syntax: images_\\d+ \n",
    "image_folders = [x for x in all_folders if re.match(r\"images_\\d+\", x)]\n",
    "print(image_folders)"
   ]
  },
  {
   "cell_type": "code",
   "execution_count": null,
   "metadata": {},
   "outputs": [],
   "source": [
    "# Make destination folders for sorted images \n",
    "os.mkdir(\"test_images/\")\n",
    "os.mkdir(\"train_images/\")"
   ]
  },
  {
   "cell_type": "code",
   "execution_count": 24,
   "metadata": {},
   "outputs": [],
   "source": [
    "# Define paths to Destination folders \n",
    "test_folder = os.path.join(\"test_images/\")\n",
    "train_folder = os.path.Join(\"train_images/\")"
   ]
  },
  {
   "cell_type": "code",
   "execution_count": 3,
   "metadata": {},
   "outputs": [],
   "source": [
    "# # Get folder numbers\n",
    "# folder_nums = [\"001\", \"002\", \"003\", \"004\", \"005\", \"006\", \"007\", \"008\", \"009\", \"010\", \"011\", \"012\"]"
   ]
  },
  {
   "cell_type": "code",
   "execution_count": 14,
   "metadata": {},
   "outputs": [],
   "source": [
    "# Define function for the extraction and sorting process \n",
    "\n",
    "def image_extraction(desired_image_list, destination_folder):\n",
    "\n",
    "    # Make a copy of the list of images to search\n",
    "    images_list  = desired_image_list.copy()\n",
    "    total_images = len(images_list)\n",
    "\n",
    "    # Create Counters\n",
    "    total_count = 0\n",
    "    hits_per_folder = []\n",
    "\n",
    "    # Iterate over the folders\n",
    "    for item in image_folders: \n",
    "\n",
    "        # Print Working Status \n",
    "        print(f\"***** Scanning folder: {item} *****\")\n",
    "\n",
    "        # Define Source image path folder to scan (Note: there is a secondary images/ folder.)\n",
    "        source_image_path = f\"{item}/images/\"\n",
    "    \n",
    "        # Loop through the images list  \n",
    "        for image in images_list:\n",
    "            \n",
    "            # Filter the list of files in the current folder as per images list.   \n",
    "            files = [f for f in os.listdir(source_image_path) if image == f]\n",
    "            \n",
    "            # Copy from the list of files to new folder and increase counter.  \n",
    "            for file in files: \n",
    "                sh.copy(source_image_path+file, destination_folder)\n",
    "                total_count += 1 \n",
    "            \n",
    "        # Running total copies \n",
    "        hits_per_folder.append(total_count)\n",
    "        print(f\"Total Files copied thus far:{str(total_count)}/{str(total_images)}\")\n",
    "\n",
    "    if total_count == total_images:\n",
    "\n",
    "        return print(f\"Extraction successful! All {str(total_count)} images were copied to {destination_folder}!\")\n",
    "\n",
    "    else: \n",
    "        return print(f\"Extraction failed. Current progress per folder: {hits_per_folder}\")\n",
    "            \n"
   ]
  },
  {
   "cell_type": "code",
   "execution_count": null,
   "metadata": {},
   "outputs": [],
   "source": [
    "# Perform the task on training_list \n",
    "image_extraction(train_list, train_folder)"
   ]
  },
  {
   "cell_type": "code",
   "execution_count": null,
   "metadata": {},
   "outputs": [
    {
     "name": "stdout",
     "output_type": "stream",
     "text": [
      "***** Working on folder 1 *****\n",
      "Total Files copied thus far:967/25596\n",
      "***** Working on folder 2 *****\n",
      "Total Files copied thus far:2459/25596\n",
      "***** Working on folder 3 *****\n",
      "Total Files copied thus far:4068/25596\n",
      "***** Working on folder 4 *****\n",
      "Total Files copied thus far:5605/25596\n",
      "***** Working on folder 5 *****\n",
      "Total Files copied thus far:7724/25596\n",
      "***** Working on folder 6 *****\n",
      "Total Files copied thus far:10402/25596\n",
      "***** Working on folder 7 *****\n",
      "Total Files copied thus far:13179/25596\n",
      "***** Working on folder 8 *****\n",
      "Total Files copied thus far:15669/25596\n",
      "***** Working on folder 9 *****\n",
      "Total Files copied thus far:17908/25596\n",
      "***** Working on folder 10 *****\n",
      "Total Files copied thus far:20062/25596\n",
      "***** Working on folder 11 *****\n",
      "Total Files copied thus far:22004/25596\n",
      "***** Working on folder 12 *****\n",
      "Total Files copied thus far:25596/25596\n"
     ]
    }
   ],
   "source": [
    "#source_image_path = \"images_001/images/\"\n",
    "# Create paths for the source image files and the destination files. \n",
    "dest_path = \"test_images/\"\n",
    "\n",
    "# Copy list of images to search for \n",
    "images_list  = test_list.copy()\n",
    "total_images = len(images_list)\n",
    "\n",
    "# Create Counters\n",
    "folder_num = 0\n",
    "total_count = 0\n",
    "hits_per_folder = []\n",
    "\n",
    "# Iterate over the folders\n",
    "for num in folder_nums: \n",
    "\n",
    "    # Reset counter for current folder update folder count  \n",
    "    folder_num += 1\n",
    "\n",
    "    # Print Working Status \n",
    "    print(f\"***** Working on folder {str(folder_num)} *****\")\n",
    "\n",
    "    # Define Source image path \n",
    "    source_image_path = f\"images_{num}/images/\"\n",
    "   \n",
    "    # Loop through the images list  \n",
    "    for image in images_list:\n",
    "        \n",
    "        # Filter the list of files in the current folder.   \n",
    "        files = [f for f in os.listdir(source_image_path) if image == f]\n",
    "        \n",
    "        # Copy from the list of files to new folder and increase counter.  \n",
    "        for file in files: \n",
    "            sh.copy(source_image_path+file, dest_path)\n",
    "            total_count += 1 \n",
    "            \n",
    "            # Remove file from images list for optimized search. \n",
    "            # images_list.remove(file)\n",
    "        \n",
    "    # Running total copies \n",
    "    hits_per_folder.append(total_count)\n",
    "    print(f\"Total Files copied thus far:{str(total_count)}/{str(total_images)}\")\n"
   ]
  },
  {
   "cell_type": "code",
   "execution_count": 28,
   "metadata": {},
   "outputs": [
    {
     "name": "stdout",
     "output_type": "stream",
     "text": [
      "You got a star! All files match.\n"
     ]
    }
   ],
   "source": [
    "\n",
    "\n",
    "copied_files = os.listdir(test_folder)\n",
    "if coll.Counter(copied_files) == coll.Counter(test_list):\n",
    "    print(\"You got a star! All files match.\")\n",
    "else:\n",
    "    print(\"This ain't it chief!\")\n"
   ]
  },
  {
   "cell_type": "code",
   "execution_count": null,
   "metadata": {},
   "outputs": [
    {
     "name": "stdout",
     "output_type": "stream",
     "text": [
      "file count: 967\n"
     ]
    }
   ],
   "source": [
    "# QC confirm the file matches \n",
    "\n",
    "copied_files = os.listdir(test_folder)\n",
    "\n",
    "\n",
    "\n",
    "count = 0\n",
    "dir_path = 'test_images/'\n",
    "for path in os.scandir(dir_path):\n",
    "    if path.is_file():\n",
    "        count += 1\n",
    "print('file count in {}:', count)"
   ]
  }
 ],
 "metadata": {
  "kernelspec": {
   "display_name": "Python 3.7.13 ('mlenv')",
   "language": "python",
   "name": "python3"
  },
  "language_info": {
   "codemirror_mode": {
    "name": "ipython",
    "version": 3
   },
   "file_extension": ".py",
   "mimetype": "text/x-python",
   "name": "python",
   "nbconvert_exporter": "python",
   "pygments_lexer": "ipython3",
   "version": "3.7.13"
  },
  "orig_nbformat": 4,
  "vscode": {
   "interpreter": {
    "hash": "5c1fa0b4963365e064c71d8bf73c6819fefc3ad2c3fc999bb7f7dad28f1ba257"
   }
  }
 },
 "nbformat": 4,
 "nbformat_minor": 2
}
