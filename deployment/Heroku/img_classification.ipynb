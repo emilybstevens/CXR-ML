{
 "cells": [
  {
   "cell_type": "code",
   "execution_count": null,
   "metadata": {},
   "outputs": [],
   "source": [
    "! pip install PIL "
   ]
  },
  {
   "cell_type": "code",
   "execution_count": null,
   "metadata": {},
   "outputs": [],
   "source": [
    "import keras\n",
    "from PIL import Image, ImageOps\n",
    "import numpy as np \n"
   ]
  },
  {
   "cell_type": "markdown",
   "metadata": {},
   "source": [
    "Code source: [Plural Insight](https://www.pluralslight.com/guides/deploying-image-classification-on-the-web-with-streamlit-and-heroku)"
   ]
  },
  {
   "cell_type": "code",
   "execution_count": null,
   "metadata": {},
   "outputs": [],
   "source": [
    "def teachable_machine_classificiation(img, model_file):\n",
    "    # load the model \n",
    "    model = keras.models.load_model(model_file)\n",
    "\n",
    "    # Create np array of the right shape to feed into the model. \n",
    "    data = np.ndarray(shape= (224,224,3), dtype=np.float32)\n",
    "    image = img \n",
    "    # image sizing \n",
    "    SIZE = (224,224)\n",
    "    image = ImageOps.fit(image, SIZE, Image.ANTIALIAS)\n",
    "\n",
    "    # turn the image into a np array \n",
    "    image_array = np.asarray(image)\n",
    "    # Normalize the image \n",
    "    normalized_image_array = (image_array.astype(np.float32)/ 127.0) -1\n",
    "\n",
    "    # Load the iumage into the array\n",
    "    data[0] = normalized_image_array\n",
    "\n",
    "    # run the inference \n",
    "    prediction = model.predict(data)\n",
    "\n",
    "# Consider editing the argmax to enable multilabel classification\n",
    "    return np.argmax(prediction) # return position of the highest probability "
   ]
  }
 ],
 "metadata": {
  "kernelspec": {
   "display_name": "Python 3.10.5 64-bit",
   "language": "python",
   "name": "python3"
  },
  "language_info": {
   "name": "python",
   "version": "3.10.5"
  },
  "orig_nbformat": 4,
  "vscode": {
   "interpreter": {
    "hash": "04473e0720f89deedb9149e66390cabce560739d56e94f81333995a10ec5e895"
   }
  }
 },
 "nbformat": 4,
 "nbformat_minor": 2
}
