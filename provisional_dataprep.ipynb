{
 "cells": [
  {
   "cell_type": "markdown",
   "metadata": {
    "_cell_guid": "19ff9d0b-d32d-4325-a19f-2ccbfa7d2dff",
    "_uuid": "9206c5863724e1af01281071e0f0ee5109ef431b"
   },
   "source": [
    "# Image Sort (Smaller Sample)\n",
    "\n",
    "- Since the image files are 45GB The provisional model will be trained using a smaller image set that preserves the distribution of unique disease labels.\n",
    "\n",
    "- This code assumes that the code file is nested in the same level as the `images*` files. \n",
    "\n"
   ]
  },
  {
   "cell_type": "markdown",
   "metadata": {},
   "source": [
    "## Import Dependencies "
   ]
  },
  {
   "cell_type": "code",
   "execution_count": 1,
   "metadata": {
    "_cell_guid": "f42f6560-edf0-4efb-85a6-6e945e50895b",
    "_uuid": "3300a1edbf2e8122d88093998eb503a6fab8a719"
   },
   "outputs": [],
   "source": [
    "import numpy as np \n",
    "import pandas as pd \n",
    "import os\n",
    "from glob import glob\n",
    "%matplotlib inline\n",
    "import matplotlib.pyplot as plt\n",
    "from itertools import chain"
   ]
  },
  {
   "cell_type": "code",
   "execution_count": 3,
   "metadata": {
    "_cell_guid": "9a342cdc-0823-490d-9a3a-a53fb7c33727",
    "_uuid": "fe804e7c294e2d290e27b037bf1ba56177abab70"
   },
   "outputs": [
    {
     "data": {
      "text/html": [
       "<div>\n",
       "<style scoped>\n",
       "    .dataframe tbody tr th:only-of-type {\n",
       "        vertical-align: middle;\n",
       "    }\n",
       "\n",
       "    .dataframe tbody tr th {\n",
       "        vertical-align: top;\n",
       "    }\n",
       "\n",
       "    .dataframe thead th {\n",
       "        text-align: right;\n",
       "    }\n",
       "</style>\n",
       "<table border=\"1\" class=\"dataframe\">\n",
       "  <thead>\n",
       "    <tr style=\"text-align: right;\">\n",
       "      <th></th>\n",
       "      <th>Image Index</th>\n",
       "      <th>Finding Labels</th>\n",
       "      <th>Follow-up #</th>\n",
       "      <th>Patient ID</th>\n",
       "      <th>Patient Age</th>\n",
       "      <th>Patient Gender</th>\n",
       "      <th>View Position</th>\n",
       "      <th>OriginalImage[Width</th>\n",
       "      <th>Height]</th>\n",
       "      <th>OriginalImagePixelSpacing[x</th>\n",
       "      <th>y]</th>\n",
       "      <th>Unnamed: 11</th>\n",
       "    </tr>\n",
       "  </thead>\n",
       "  <tbody>\n",
       "    <tr>\n",
       "      <th>0</th>\n",
       "      <td>00000001_000.png</td>\n",
       "      <td>Cardiomegaly</td>\n",
       "      <td>0</td>\n",
       "      <td>1</td>\n",
       "      <td>58</td>\n",
       "      <td>M</td>\n",
       "      <td>PA</td>\n",
       "      <td>2682</td>\n",
       "      <td>2749</td>\n",
       "      <td>0.143</td>\n",
       "      <td>0.143</td>\n",
       "      <td>NaN</td>\n",
       "    </tr>\n",
       "    <tr>\n",
       "      <th>1</th>\n",
       "      <td>00000001_001.png</td>\n",
       "      <td>Cardiomegaly|Emphysema</td>\n",
       "      <td>1</td>\n",
       "      <td>1</td>\n",
       "      <td>58</td>\n",
       "      <td>M</td>\n",
       "      <td>PA</td>\n",
       "      <td>2894</td>\n",
       "      <td>2729</td>\n",
       "      <td>0.143</td>\n",
       "      <td>0.143</td>\n",
       "      <td>NaN</td>\n",
       "    </tr>\n",
       "    <tr>\n",
       "      <th>2</th>\n",
       "      <td>00000001_002.png</td>\n",
       "      <td>Cardiomegaly|Effusion</td>\n",
       "      <td>2</td>\n",
       "      <td>1</td>\n",
       "      <td>58</td>\n",
       "      <td>M</td>\n",
       "      <td>PA</td>\n",
       "      <td>2500</td>\n",
       "      <td>2048</td>\n",
       "      <td>0.168</td>\n",
       "      <td>0.168</td>\n",
       "      <td>NaN</td>\n",
       "    </tr>\n",
       "    <tr>\n",
       "      <th>3</th>\n",
       "      <td>00000002_000.png</td>\n",
       "      <td>No Finding</td>\n",
       "      <td>0</td>\n",
       "      <td>2</td>\n",
       "      <td>81</td>\n",
       "      <td>M</td>\n",
       "      <td>PA</td>\n",
       "      <td>2500</td>\n",
       "      <td>2048</td>\n",
       "      <td>0.171</td>\n",
       "      <td>0.171</td>\n",
       "      <td>NaN</td>\n",
       "    </tr>\n",
       "    <tr>\n",
       "      <th>4</th>\n",
       "      <td>00000003_000.png</td>\n",
       "      <td>Hernia</td>\n",
       "      <td>0</td>\n",
       "      <td>3</td>\n",
       "      <td>81</td>\n",
       "      <td>F</td>\n",
       "      <td>PA</td>\n",
       "      <td>2582</td>\n",
       "      <td>2991</td>\n",
       "      <td>0.143</td>\n",
       "      <td>0.143</td>\n",
       "      <td>NaN</td>\n",
       "    </tr>\n",
       "  </tbody>\n",
       "</table>\n",
       "</div>"
      ],
      "text/plain": [
       "        Image Index          Finding Labels  Follow-up #  Patient ID  \\\n",
       "0  00000001_000.png            Cardiomegaly            0           1   \n",
       "1  00000001_001.png  Cardiomegaly|Emphysema            1           1   \n",
       "2  00000001_002.png   Cardiomegaly|Effusion            2           1   \n",
       "3  00000002_000.png              No Finding            0           2   \n",
       "4  00000003_000.png                  Hernia            0           3   \n",
       "\n",
       "   Patient Age Patient Gender View Position  OriginalImage[Width  Height]  \\\n",
       "0           58              M            PA                 2682     2749   \n",
       "1           58              M            PA                 2894     2729   \n",
       "2           58              M            PA                 2500     2048   \n",
       "3           81              M            PA                 2500     2048   \n",
       "4           81              F            PA                 2582     2991   \n",
       "\n",
       "   OriginalImagePixelSpacing[x     y]  Unnamed: 11  \n",
       "0                        0.143  0.143          NaN  \n",
       "1                        0.143  0.143          NaN  \n",
       "2                        0.168  0.168          NaN  \n",
       "3                        0.171  0.171          NaN  \n",
       "4                        0.143  0.143          NaN  "
      ]
     },
     "execution_count": 3,
     "metadata": {},
     "output_type": "execute_result"
    }
   ],
   "source": [
    "# Import the Data_Entry_2017.csv file \n",
    "\n",
    "all_images_df = pd.read_csv('Data_Entry_2017.csv')\n",
    "all_images_df.head()"
   ]
  },
  {
   "cell_type": "markdown",
   "metadata": {},
   "source": [
    "## Clean the Data_Entry_2017 File \n",
    "\n",
    "Pair the images in the `Image Index` with their respective paths.  "
   ]
  },
  {
   "cell_type": "code",
   "execution_count": 4,
   "metadata": {},
   "outputs": [
    {
     "name": "stdout",
     "output_type": "stream",
     "text": [
      "Images found:0 / Total Images: 112120\n"
     ]
    }
   ],
   "source": [
    "# Get the paths for the images stored in the image files and store them as a dictionary\n",
    "# Make the keys the image file names using os.path.basename() so it's paired. \n",
    "# Count the number of total images needed from the data entry file's image index column. \n",
    "\n",
    "total_images =  len(all_images_df[\"Image Index\"])\n",
    "\n",
    "all_image_paths = {os.path.basename(x): x for x in \n",
    "                   glob(os.path.join(\"images*\", \"*\", \"*.png\"))}\n",
    "print(f\"Images found:{len(all_image_paths)} / Total Images: {total_images}\")"
   ]
  },
  {
   "cell_type": "code",
   "execution_count": 4,
   "metadata": {},
   "outputs": [
    {
     "data": {
      "text/html": [
       "<div>\n",
       "<style scoped>\n",
       "    .dataframe tbody tr th:only-of-type {\n",
       "        vertical-align: middle;\n",
       "    }\n",
       "\n",
       "    .dataframe tbody tr th {\n",
       "        vertical-align: top;\n",
       "    }\n",
       "\n",
       "    .dataframe thead th {\n",
       "        text-align: right;\n",
       "    }\n",
       "</style>\n",
       "<table border=\"1\" class=\"dataframe\">\n",
       "  <thead>\n",
       "    <tr style=\"text-align: right;\">\n",
       "      <th></th>\n",
       "      <th>Image Index</th>\n",
       "      <th>Finding Labels</th>\n",
       "      <th>Follow-up #</th>\n",
       "      <th>Patient ID</th>\n",
       "      <th>Patient Age</th>\n",
       "      <th>Patient Gender</th>\n",
       "      <th>View Position</th>\n",
       "      <th>OriginalImage[Width</th>\n",
       "      <th>Height]</th>\n",
       "      <th>OriginalImagePixelSpacing[x</th>\n",
       "      <th>y]</th>\n",
       "      <th>Unnamed: 11</th>\n",
       "      <th>path</th>\n",
       "    </tr>\n",
       "  </thead>\n",
       "  <tbody>\n",
       "    <tr>\n",
       "      <th>70098</th>\n",
       "      <td>00017258_002.png</td>\n",
       "      <td>Effusion</td>\n",
       "      <td>2</td>\n",
       "      <td>17258</td>\n",
       "      <td>22</td>\n",
       "      <td>F</td>\n",
       "      <td>PA</td>\n",
       "      <td>2992</td>\n",
       "      <td>2991</td>\n",
       "      <td>0.143000</td>\n",
       "      <td>0.143000</td>\n",
       "      <td>NaN</td>\n",
       "      <td>images_008\\images\\00017258_002.png</td>\n",
       "    </tr>\n",
       "    <tr>\n",
       "      <th>97371</th>\n",
       "      <td>00025689_000.png</td>\n",
       "      <td>Atelectasis|Infiltration</td>\n",
       "      <td>0</td>\n",
       "      <td>25689</td>\n",
       "      <td>64</td>\n",
       "      <td>M</td>\n",
       "      <td>PA</td>\n",
       "      <td>2992</td>\n",
       "      <td>2991</td>\n",
       "      <td>0.143000</td>\n",
       "      <td>0.143000</td>\n",
       "      <td>NaN</td>\n",
       "      <td>images_011\\images\\00025689_000.png</td>\n",
       "    </tr>\n",
       "    <tr>\n",
       "      <th>37230</th>\n",
       "      <td>00009827_003.png</td>\n",
       "      <td>No Finding</td>\n",
       "      <td>3</td>\n",
       "      <td>9827</td>\n",
       "      <td>72</td>\n",
       "      <td>F</td>\n",
       "      <td>AP</td>\n",
       "      <td>3056</td>\n",
       "      <td>2544</td>\n",
       "      <td>0.139000</td>\n",
       "      <td>0.139000</td>\n",
       "      <td>NaN</td>\n",
       "      <td>images_005\\images\\00009827_003.png</td>\n",
       "    </tr>\n",
       "    <tr>\n",
       "      <th>20619</th>\n",
       "      <td>00005520_003.png</td>\n",
       "      <td>No Finding</td>\n",
       "      <td>3</td>\n",
       "      <td>5520</td>\n",
       "      <td>44</td>\n",
       "      <td>M</td>\n",
       "      <td>PA</td>\n",
       "      <td>2622</td>\n",
       "      <td>2991</td>\n",
       "      <td>0.143000</td>\n",
       "      <td>0.143000</td>\n",
       "      <td>NaN</td>\n",
       "      <td>images_003\\images\\00005520_003.png</td>\n",
       "    </tr>\n",
       "    <tr>\n",
       "      <th>98812</th>\n",
       "      <td>00026127_001.png</td>\n",
       "      <td>No Finding</td>\n",
       "      <td>1</td>\n",
       "      <td>26127</td>\n",
       "      <td>71</td>\n",
       "      <td>M</td>\n",
       "      <td>AP</td>\n",
       "      <td>3056</td>\n",
       "      <td>2544</td>\n",
       "      <td>0.139000</td>\n",
       "      <td>0.139000</td>\n",
       "      <td>NaN</td>\n",
       "      <td>images_011\\images\\00026127_001.png</td>\n",
       "    </tr>\n",
       "    <tr>\n",
       "      <th>99591</th>\n",
       "      <td>00026371_001.png</td>\n",
       "      <td>No Finding</td>\n",
       "      <td>1</td>\n",
       "      <td>26371</td>\n",
       "      <td>33</td>\n",
       "      <td>F</td>\n",
       "      <td>PA</td>\n",
       "      <td>1875</td>\n",
       "      <td>2021</td>\n",
       "      <td>0.194311</td>\n",
       "      <td>0.194311</td>\n",
       "      <td>NaN</td>\n",
       "      <td>images_011\\images\\00026371_001.png</td>\n",
       "    </tr>\n",
       "    <tr>\n",
       "      <th>88285</th>\n",
       "      <td>00021840_013.png</td>\n",
       "      <td>Effusion|Emphysema</td>\n",
       "      <td>13</td>\n",
       "      <td>21840</td>\n",
       "      <td>59</td>\n",
       "      <td>F</td>\n",
       "      <td>PA</td>\n",
       "      <td>2992</td>\n",
       "      <td>2991</td>\n",
       "      <td>0.143000</td>\n",
       "      <td>0.143000</td>\n",
       "      <td>NaN</td>\n",
       "      <td>images_010\\images\\00021840_013.png</td>\n",
       "    </tr>\n",
       "    <tr>\n",
       "      <th>2779</th>\n",
       "      <td>00000740_001.png</td>\n",
       "      <td>No Finding</td>\n",
       "      <td>1</td>\n",
       "      <td>740</td>\n",
       "      <td>80</td>\n",
       "      <td>M</td>\n",
       "      <td>AP</td>\n",
       "      <td>2500</td>\n",
       "      <td>2048</td>\n",
       "      <td>0.171000</td>\n",
       "      <td>0.171000</td>\n",
       "      <td>NaN</td>\n",
       "      <td>images_001\\images\\00000740_001.png</td>\n",
       "    </tr>\n",
       "    <tr>\n",
       "      <th>77836</th>\n",
       "      <td>00019124_069.png</td>\n",
       "      <td>No Finding</td>\n",
       "      <td>69</td>\n",
       "      <td>19124</td>\n",
       "      <td>53</td>\n",
       "      <td>F</td>\n",
       "      <td>PA</td>\n",
       "      <td>2992</td>\n",
       "      <td>2991</td>\n",
       "      <td>0.143000</td>\n",
       "      <td>0.143000</td>\n",
       "      <td>NaN</td>\n",
       "      <td>images_009\\images\\00019124_069.png</td>\n",
       "    </tr>\n",
       "    <tr>\n",
       "      <th>109269</th>\n",
       "      <td>00029701_000.png</td>\n",
       "      <td>No Finding</td>\n",
       "      <td>0</td>\n",
       "      <td>29701</td>\n",
       "      <td>59</td>\n",
       "      <td>F</td>\n",
       "      <td>AP</td>\n",
       "      <td>3056</td>\n",
       "      <td>2544</td>\n",
       "      <td>0.139000</td>\n",
       "      <td>0.139000</td>\n",
       "      <td>NaN</td>\n",
       "      <td>images_012\\images\\00029701_000.png</td>\n",
       "    </tr>\n",
       "  </tbody>\n",
       "</table>\n",
       "</div>"
      ],
      "text/plain": [
       "             Image Index            Finding Labels  Follow-up #  Patient ID  \\\n",
       "70098   00017258_002.png                  Effusion            2       17258   \n",
       "97371   00025689_000.png  Atelectasis|Infiltration            0       25689   \n",
       "37230   00009827_003.png                No Finding            3        9827   \n",
       "20619   00005520_003.png                No Finding            3        5520   \n",
       "98812   00026127_001.png                No Finding            1       26127   \n",
       "99591   00026371_001.png                No Finding            1       26371   \n",
       "88285   00021840_013.png        Effusion|Emphysema           13       21840   \n",
       "2779    00000740_001.png                No Finding            1         740   \n",
       "77836   00019124_069.png                No Finding           69       19124   \n",
       "109269  00029701_000.png                No Finding            0       29701   \n",
       "\n",
       "        Patient Age Patient Gender View Position  OriginalImage[Width  \\\n",
       "70098            22              F            PA                 2992   \n",
       "97371            64              M            PA                 2992   \n",
       "37230            72              F            AP                 3056   \n",
       "20619            44              M            PA                 2622   \n",
       "98812            71              M            AP                 3056   \n",
       "99591            33              F            PA                 1875   \n",
       "88285            59              F            PA                 2992   \n",
       "2779             80              M            AP                 2500   \n",
       "77836            53              F            PA                 2992   \n",
       "109269           59              F            AP                 3056   \n",
       "\n",
       "        Height]  OriginalImagePixelSpacing[x        y]  Unnamed: 11  \\\n",
       "70098      2991                     0.143000  0.143000          NaN   \n",
       "97371      2991                     0.143000  0.143000          NaN   \n",
       "37230      2544                     0.139000  0.139000          NaN   \n",
       "20619      2991                     0.143000  0.143000          NaN   \n",
       "98812      2544                     0.139000  0.139000          NaN   \n",
       "99591      2021                     0.194311  0.194311          NaN   \n",
       "88285      2991                     0.143000  0.143000          NaN   \n",
       "2779       2048                     0.171000  0.171000          NaN   \n",
       "77836      2991                     0.143000  0.143000          NaN   \n",
       "109269     2544                     0.139000  0.139000          NaN   \n",
       "\n",
       "                                      path  \n",
       "70098   images_008\\images\\00017258_002.png  \n",
       "97371   images_011\\images\\00025689_000.png  \n",
       "37230   images_005\\images\\00009827_003.png  \n",
       "20619   images_003\\images\\00005520_003.png  \n",
       "98812   images_011\\images\\00026127_001.png  \n",
       "99591   images_011\\images\\00026371_001.png  \n",
       "88285   images_010\\images\\00021840_013.png  \n",
       "2779    images_001\\images\\00000740_001.png  \n",
       "77836   images_009\\images\\00019124_069.png  \n",
       "109269  images_012\\images\\00029701_000.png  "
      ]
     },
     "execution_count": 4,
     "metadata": {},
     "output_type": "execute_result"
    }
   ],
   "source": [
    "# Make a new column to store the paths\n",
    "# Get the values = paths stored in the all_image_paths dictionary by using Image Index column as the key! \n",
    "# Check the new column to make sure the index and the paths match. Use Sample to randomly sample across the df. \n",
    "\n",
    "all_images_df[\"path\"] = all_images_df[\"Image Index\"].map(all_image_paths.get)\n",
    "all_images_df.sample(10)"
   ]
  },
  {
   "cell_type": "code",
   "execution_count": 5,
   "metadata": {},
   "outputs": [
    {
     "data": {
      "text/plain": [
       "Image Index                     object\n",
       "Finding Labels                  object\n",
       "Follow-up #                      int64\n",
       "Patient ID                       int64\n",
       "Patient Age                      int64\n",
       "Patient Gender                  object\n",
       "View Position                   object\n",
       "OriginalImage[Width              int64\n",
       "Height]                          int64\n",
       "OriginalImagePixelSpacing[x    float64\n",
       "y]                             float64\n",
       "Unnamed: 11                    float64\n",
       "path                            object\n",
       "dtype: object"
      ]
     },
     "execution_count": 5,
     "metadata": {},
     "output_type": "execute_result"
    }
   ],
   "source": [
    "# Check Dtypes to see if transformations need to be made. \n",
    "all_images_df.dtypes"
   ]
  },
  {
   "cell_type": "code",
   "execution_count": 6,
   "metadata": {},
   "outputs": [
    {
     "data": {
      "text/plain": [
       "112120"
      ]
     },
     "execution_count": 6,
     "metadata": {},
     "output_type": "execute_result"
    }
   ],
   "source": [
    "# Check Unnamed column \n",
    "all_images_df[\"Unnamed: 11\"].isnull().sum()"
   ]
  },
  {
   "cell_type": "markdown",
   "metadata": {},
   "source": [
    "Maybe take the Unnamed out later? "
   ]
  },
  {
   "cell_type": "markdown",
   "metadata": {
    "_cell_guid": "0d674a43-170f-4ca6-a9b4-edc64ab89c35",
    "_uuid": "9a1669750b7cffcae1b7a2eb4307b85472dff192"
   },
   "source": [
    "## Filter DF based on Unique Disease Labels\n",
    "\n",
    "- The provisional code will only focus on some of the unique diseases. \n",
    "\n",
    "- Extract the images based on the desired diseases. \n",
    "\n",
    "- Comorbidities must be cleaned. \n"
   ]
  },
  {
   "cell_type": "code",
   "execution_count": 7,
   "metadata": {
    "_cell_guid": "d75ed03e-986d-4f3f-81af-c910d194f390",
    "_uuid": "0c5123f65edf349f8ad2e5c5f55ac484d974f5c7"
   },
   "outputs": [
    {
     "data": {
      "text/plain": [
       "No Finding                                                         60361\n",
       "Infiltration                                                        9547\n",
       "Atelectasis                                                         4215\n",
       "Effusion                                                            3955\n",
       "Nodule                                                              2705\n",
       "                                                                   ...  \n",
       "Atelectasis|Consolidation|Edema|Effusion|Infiltration|Pneumonia        1\n",
       "Atelectasis|Consolidation|Effusion|Emphysema|Mass|Pneumothorax         1\n",
       "Cardiomegaly|Effusion|Pleural_Thickening|Pneumothorax                  1\n",
       "Edema|Infiltration|Pneumothorax                                        1\n",
       "Atelectasis|Consolidation|Mass|Pleural_Thickening|Pneumothorax         1\n",
       "Name: Finding Labels, Length: 836, dtype: int64"
      ]
     },
     "execution_count": 7,
     "metadata": {},
     "output_type": "execute_result"
    }
   ],
   "source": [
    "# Check Disease labels and turn the result into a df \n",
    "\n",
    "label_counts = all_images_df[\"Finding Labels\"].value_counts()\n",
    "label_counts"
   ]
  },
  {
   "cell_type": "code",
   "execution_count": 8,
   "metadata": {},
   "outputs": [
    {
     "data": {
      "text/plain": [
       "0                    [Cardiomegaly]\n",
       "1         [Cardiomegaly, Emphysema]\n",
       "2          [Cardiomegaly, Effusion]\n",
       "3                      [No Finding]\n",
       "4                          [Hernia]\n",
       "                    ...            \n",
       "112115            [Mass, Pneumonia]\n",
       "112116                 [No Finding]\n",
       "112117                 [No Finding]\n",
       "112118                 [No Finding]\n",
       "112119                 [No Finding]\n",
       "Name: Finding Labels, Length: 112120, dtype: object"
      ]
     },
     "execution_count": 8,
     "metadata": {},
     "output_type": "execute_result"
    }
   ],
   "source": [
    "# Loop through each word within the strings(values) of the column and extract the single disease diagnoses.\n",
    "# Single diseases don't have '|' in their values.\n",
    "# First loop through values in the column and split the comorbidities as individual string values\n",
    "\n",
    "all_images_df['Finding Labels'].map(lambda x: x.split('|'))"
   ]
  },
  {
   "cell_type": "code",
   "execution_count": 9,
   "metadata": {},
   "outputs": [
    {
     "data": {
      "text/plain": [
       "['Atelectasis',\n",
       " 'Cardiomegaly',\n",
       " 'Consolidation',\n",
       " 'Edema',\n",
       " 'Effusion',\n",
       " 'Emphysema',\n",
       " 'Fibrosis',\n",
       " 'Hernia',\n",
       " 'Infiltration',\n",
       " 'Mass',\n",
       " 'No Finding',\n",
       " 'Nodule',\n",
       " 'Pleural_Thickening',\n",
       " 'Pneumonia',\n",
       " 'Pneumothorax']"
      ]
     },
     "execution_count": 9,
     "metadata": {},
     "output_type": "execute_result"
    }
   ],
   "source": [
    "# Iterate over each individual value within the results and list the unique values.\n",
    "# transform the comorbidities from object to list first \n",
    "# Include * in the it.chain() function first otherwise it won't loop over the individual lists within the list of values \n",
    "\n",
    "all_diseases = list(chain(*all_images_df['Finding Labels'].map(lambda x: x.split('|')).tolist()))\n",
    "unique_diseases = np.unique(all_diseases).tolist()\n",
    "unique_diseases"
   ]
  },
  {
   "cell_type": "code",
   "execution_count": 39,
   "metadata": {},
   "outputs": [
    {
     "data": {
      "text/plain": [
       "No Finding            60361\n",
       "Infiltration           9547\n",
       "Atelectasis            4215\n",
       "Effusion               3955\n",
       "Nodule                 2705\n",
       "Pneumothorax           2194\n",
       "Mass                   2139\n",
       "Consolidation          1310\n",
       "Pleural_Thickening     1126\n",
       "Cardiomegaly           1093\n",
       "Emphysema               892\n",
       "Fibrosis                727\n",
       "Edema                   628\n",
       "Pneumonia               322\n",
       "Hernia                  110\n",
       "Name: Finding Labels, dtype: int64"
      ]
     },
     "execution_count": 39,
     "metadata": {},
     "output_type": "execute_result"
    }
   ],
   "source": [
    "# Filter the original df using the labels of unique diseases \n",
    "\n",
    "fil_images_df = all_images_df[all_images_df[\"Finding Labels\"].isin(unique_diseases)]\n",
    "fil_label_counts = fil_images_df[\"Finding Labels\"].value_counts().sort_values(ascending=False)\n",
    "fil_label_counts"
   ]
  },
  {
   "cell_type": "code",
   "execution_count": 37,
   "metadata": {},
   "outputs": [
    {
     "name": "stdout",
     "output_type": "stream",
     "text": [
      "The disease frequency is 34% of the dataset\n"
     ]
    }
   ],
   "source": [
    "disease_freq = round(100*((fil_label_counts[1:].sum())/(fil_label_counts.sum())))\n",
    "print(f\"The disease frequency is {disease_freq}% of the dataset\")"
   ]
  },
  {
   "cell_type": "code",
   "execution_count": 42,
   "metadata": {},
   "outputs": [
    {
     "data": {
      "text/plain": [
       "Infiltration          0.308336\n",
       "Atelectasis           0.136130\n",
       "Effusion              0.127733\n",
       "Nodule                0.087362\n",
       "Pneumothorax          0.070859\n",
       "Mass                  0.069082\n",
       "Consolidation         0.042309\n",
       "Pleural_Thickening    0.036366\n",
       "Cardiomegaly          0.035300\n",
       "Emphysema             0.028809\n",
       "Fibrosis              0.023480\n",
       "Edema                 0.020282\n",
       "Pneumonia             0.010400\n",
       "Hernia                0.003553\n",
       "Name: Finding Labels, dtype: float64"
      ]
     },
     "execution_count": 42,
     "metadata": {},
     "output_type": "execute_result"
    }
   ],
   "source": [
    "# Creating Weights based solely on diseased data\n",
    "total = fil_label_counts[1:].sum()\n",
    "\n",
    "disease_weights = fil_label_counts[1:].transform(lambda x: x/total)\n",
    "disease_weights\n"
   ]
  },
  {
   "cell_type": "code",
   "execution_count": 55,
   "metadata": {},
   "outputs": [
    {
     "name": "stderr",
     "output_type": "stream",
     "text": [
      "c:\\Users\\Fabalin\\Anaconda3\\envs\\mlenv\\lib\\site-packages\\ipykernel_launcher.py:1: SettingWithCopyWarning: \n",
      "A value is trying to be set on a copy of a slice from a DataFrame.\n",
      "Try using .loc[row_indexer,col_indexer] = value instead\n",
      "\n",
      "See the caveats in the documentation: https://pandas.pydata.org/pandas-docs/stable/user_guide/indexing.html#returning-a-view-versus-a-copy\n",
      "  \"\"\"Entry point for launching an IPython kernel.\n",
      "c:\\Users\\Fabalin\\Anaconda3\\envs\\mlenv\\lib\\site-packages\\pandas\\core\\indexing.py:1817: SettingWithCopyWarning: \n",
      "A value is trying to be set on a copy of a slice from a DataFrame.\n",
      "Try using .loc[row_indexer,col_indexer] = value instead\n",
      "\n",
      "See the caveats in the documentation: https://pandas.pydata.org/pandas-docs/stable/user_guide/indexing.html#returning-a-view-versus-a-copy\n",
      "  self._setitem_single_column(loc, value, pi)\n"
     ]
    }
   ],
   "source": [
    "fil_images_df[\"weights\"] = fil_images_df.loc[:,\"Finding Labels\"]= disease_weights.get"
   ]
  },
  {
   "cell_type": "code",
   "execution_count": 13,
   "metadata": {},
   "outputs": [
    {
     "data": {
      "image/png": "[encoded data removed]",
      "text/plain": [
       "<Figure size 864x576 with 1 Axes>"
      ]
     },
     "metadata": {
      "needs_background": "light"
     },
     "output_type": "display_data"
    }
   ],
   "source": [
    "# See their distribution to get an idea \n",
    "\n",
    "fig, ax1 = plt.subplots(1,1,figsize = (12, 8))\n",
    "ax1.bar(np.arange(len(fil_label_counts))+0.5, fil_label_counts)\n",
    "ax1.set_xticks(np.arange(len(fil_label_counts))+0.5)\n",
    "_ = ax1.set_xticklabels(fil_label_counts.index, rotation = 90)"
   ]
  },
  {
   "cell_type": "markdown",
   "metadata": {},
   "source": [
    "### Use The `test_list.txt` And `train_list.txt` Files as References Prior to Sampling\n",
    "\n",
    "This ensures that the both the train and test lists would have equal proportions of the data to be stratified. "
   ]
  },
  {
   "cell_type": "code",
   "execution_count": 15,
   "metadata": {},
   "outputs": [],
   "source": [
    "# Create a function to open and extract the list of desired images from each text file. \n",
    "\n",
    "def get_desired_images(txt_file):\n",
    "    \n",
    "    # Open the file #cookie jar  \n",
    "    open_file = open(txt_file, \"r\")\n",
    "    \n",
    "    # List contents by reading and turning new lines into different list items. \n",
    "    listify = open_file.read().split(\"\\n\")\n",
    "\n",
    "    # Close the #cookie jar \n",
    "    open_file.close()\n",
    "    \n",
    "    return listify "
   ]
  },
  {
   "cell_type": "code",
   "execution_count": 16,
   "metadata": {},
   "outputs": [],
   "source": [
    "# Define the path for the text files for train and test sets. \n",
    "\n",
    "test_file = os.path.join(\"test_list.txt\")\n",
    "train_file = os.path.join(\"train_val_list.txt\")"
   ]
  },
  {
   "cell_type": "code",
   "execution_count": 20,
   "metadata": {},
   "outputs": [
    {
     "data": {
      "text/plain": [
       "25596"
      ]
     },
     "execution_count": 20,
     "metadata": {},
     "output_type": "execute_result"
    }
   ],
   "source": [
    "# Create Lists\n",
    "test_list = get_desired_images(test_file)\n",
    "train_list = get_desired_images(train_file)\n",
    "len(test_list)"
   ]
  },
  {
   "cell_type": "code",
   "execution_count": 23,
   "metadata": {},
   "outputs": [
    {
     "name": "stderr",
     "output_type": "stream",
     "text": [
      "c:\\Users\\Fabalin\\Anaconda3\\envs\\mlenv\\lib\\site-packages\\ipykernel_launcher.py:3: UserWarning: Boolean Series key will be reindexed to match DataFrame index.\n",
      "  This is separate from the ipykernel package so we can avoid doing imports until\n"
     ]
    },
    {
     "data": {
      "text/plain": [
       "No Finding            9861\n",
       "Infiltration          2220\n",
       "Effusion              1167\n",
       "Pneumothorax           953\n",
       "Atelectasis            801\n",
       "Consolidation          481\n",
       "Nodule                 457\n",
       "Mass                   443\n",
       "Cardiomegaly           316\n",
       "Pleural_Thickening     309\n",
       "Emphysema              305\n",
       "Edema                  231\n",
       "Fibrosis               176\n",
       "Pneumonia               88\n",
       "Hernia                  45\n",
       "Name: Finding Labels, dtype: int64"
      ]
     },
     "execution_count": 23,
     "metadata": {},
     "output_type": "execute_result"
    }
   ],
   "source": [
    "# Filter the original df using Train and Test lists prior to sampling \n",
    "\n",
    "test_images_df = fil_images_df[all_images_df[\"Image Index\"].isin(test_list)]\n",
    "test_label_counts = test_images_df[\"Finding Labels\"].value_counts().sort_values(ascending=False)\n",
    "test_label_counts\n"
   ]
  },
  {
   "cell_type": "code",
   "execution_count": 26,
   "metadata": {},
   "outputs": [
    {
     "data": {
      "text/plain": [
       "No Finding            50500\n",
       "Infiltration           7327\n",
       "Atelectasis            3414\n",
       "Effusion               2788\n",
       "Nodule                 2248\n",
       "Mass                   1696\n",
       "Pneumothorax           1241\n",
       "Consolidation           829\n",
       "Pleural_Thickening      817\n",
       "Cardiomegaly            777\n",
       "Emphysema               587\n",
       "Fibrosis                551\n",
       "Edema                   397\n",
       "Pneumonia               234\n",
       "Hernia                   65\n",
       "Name: Finding Labels, dtype: int64"
      ]
     },
     "execution_count": 26,
     "metadata": {},
     "output_type": "execute_result"
    }
   ],
   "source": [
    "# Filter the original df using Train and Test lists prior to sampling \n",
    "\n",
    "train_images_df = fil_images_df[fil_images_df[\"Image Index\"].isin(train_list)]\n",
    "train_label_counts = train_images_df[\"Finding Labels\"].value_counts().sort_values(ascending=False)\n",
    "train_label_counts"
   ]
  },
  {
   "cell_type": "code",
   "execution_count": 31,
   "metadata": {},
   "outputs": [
    {
     "name": "stdout",
     "output_type": "stream",
     "text": [
      "There are 17853 Test Images and 73471 Train Images\n"
     ]
    }
   ],
   "source": [
    "# Sum of all items in both lists\n",
    "test_sum = test_label_counts.sum()\n",
    "train_sum = train_label_counts.sum()\n",
    "\n",
    "print(f\"There are {test_sum} Test Images and {train_sum} Train Images\")"
   ]
  },
  {
   "cell_type": "code",
   "execution_count": 34,
   "metadata": {},
   "outputs": [
    {
     "name": "stdout",
     "output_type": "stream",
     "text": [
      "There are 7992 Diseased Test Images and 22971 Diseased Train Images.\n",
      "That is 45 % of the test_list and 31 % of the train_list respectively.\n"
     ]
    }
   ],
   "source": [
    "# Calculate the total disease image counts for each set to get proportions \n",
    "d_test_sum = test_label_counts[1:].sum()\n",
    "d_train_sum = train_label_counts[1:].sum()\n",
    "\n",
    "print(f\"There are {d_test_sum} Diseased Test Images and {d_train_sum} Diseased Train Images.\")\n",
    "print(f\"That is {round(100*(d_test_sum/test_sum))} % of the test_list and {round(100*(d_train_sum/train_sum))} % of the train_list respectively.\")\n"
   ]
  },
  {
   "cell_type": "markdown",
   "metadata": {},
   "source": [
    "To ensure that the model gets properly trained on data to identify disease, the data will be stratified proportionally based on the diseased images' weights. The No Findings data can be added onto each samples to introduce noise... currently it will be 34% of each of the total samples for the train and test lists. "
   ]
  },
  {
   "cell_type": "markdown",
   "metadata": {},
   "source": [
    "Target Disease Samples = 300 for provisional model \n",
    "80% = 240 Train images stratified based on disease weights + 80 No Finding Images\n",
    "20% = 60 Test images stratified based on disease weights + 20 No Finding Images \n",
    "\n",
    "Total Samples = 400 Images"
   ]
  },
  {
   "cell_type": "code",
   "execution_count": null,
   "metadata": {},
   "outputs": [],
   "source": []
  },
  {
   "cell_type": "code",
   "execution_count": null,
   "metadata": {},
   "outputs": [],
   "source": []
  }
 ],
 "metadata": {
  "kernelspec": {
   "display_name": "Python 3 (ipykernel)",
   "language": "python",
   "name": "python3"
  },
  "language_info": {
   "codemirror_mode": {
    "name": "ipython",
    "version": 3
   },
   "file_extension": ".py",
   "mimetype": "text/x-python",
   "name": "python",
   "nbconvert_exporter": "python",
   "pygments_lexer": "ipython3",
   "version": "3.7.11"
  },
  "vscode": {
   "interpreter": {
    "hash": "5c1fa0b4963365e064c71d8bf73c6819fefc3ad2c3fc999bb7f7dad28f1ba257"
   }
  }
 },
 "nbformat": 4,
 "nbformat_minor": 1
}
